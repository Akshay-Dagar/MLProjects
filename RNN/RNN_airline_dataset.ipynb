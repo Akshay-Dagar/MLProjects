{
 "cells": [
  {
   "cell_type": "markdown",
   "metadata": {},
   "source": [
    "# Fetching the Dataset:"
   ]
  },
  {
   "cell_type": "code",
   "execution_count": 143,
   "metadata": {},
   "outputs": [],
   "source": [
    "import tensorflow as tf\n",
    "import numpy as np\n",
    "from pandas import read_csv"
   ]
  },
  {
   "cell_type": "code",
   "execution_count": 144,
   "metadata": {
    "scrolled": true
   },
   "outputs": [
    {
     "data": {
      "text/html": [
       "<div>\n",
       "<style scoped>\n",
       "    .dataframe tbody tr th:only-of-type {\n",
       "        vertical-align: middle;\n",
       "    }\n",
       "\n",
       "    .dataframe tbody tr th {\n",
       "        vertical-align: top;\n",
       "    }\n",
       "\n",
       "    .dataframe thead th {\n",
       "        text-align: right;\n",
       "    }\n",
       "</style>\n",
       "<table border=\"1\" class=\"dataframe\">\n",
       "  <thead>\n",
       "    <tr style=\"text-align: right;\">\n",
       "      <th></th>\n",
       "      <th>Month</th>\n",
       "      <th>International airline passengers: monthly totals in thousands. Jan 49 ? Dec 60</th>\n",
       "    </tr>\n",
       "  </thead>\n",
       "  <tbody>\n",
       "    <tr>\n",
       "      <th>0</th>\n",
       "      <td>1949-01</td>\n",
       "      <td>112</td>\n",
       "    </tr>\n",
       "    <tr>\n",
       "      <th>1</th>\n",
       "      <td>1949-02</td>\n",
       "      <td>118</td>\n",
       "    </tr>\n",
       "    <tr>\n",
       "      <th>2</th>\n",
       "      <td>1949-03</td>\n",
       "      <td>132</td>\n",
       "    </tr>\n",
       "    <tr>\n",
       "      <th>3</th>\n",
       "      <td>1949-04</td>\n",
       "      <td>129</td>\n",
       "    </tr>\n",
       "    <tr>\n",
       "      <th>4</th>\n",
       "      <td>1949-05</td>\n",
       "      <td>121</td>\n",
       "    </tr>\n",
       "  </tbody>\n",
       "</table>\n",
       "</div>"
      ],
      "text/plain": [
       "     Month  \\\n",
       "0  1949-01   \n",
       "1  1949-02   \n",
       "2  1949-03   \n",
       "3  1949-04   \n",
       "4  1949-05   \n",
       "\n",
       "   International airline passengers: monthly totals in thousands. Jan 49 ? Dec 60  \n",
       "0                                                112                               \n",
       "1                                                118                               \n",
       "2                                                132                               \n",
       "3                                                129                               \n",
       "4                                                121                               "
      ]
     },
     "execution_count": 144,
     "metadata": {},
     "output_type": "execute_result"
    }
   ],
   "source": [
    "df=read_csv(r\"C:\\Users\\akshay\\Downloads\\Machine Learning Notes\\Datasets\\international-airline-passengers.csv\")\n",
    "df.head()\n",
    "#passengers are in thousands(112000,118000.....)"
   ]
  },
  {
   "cell_type": "code",
   "execution_count": 145,
   "metadata": {
    "scrolled": true
   },
   "outputs": [
    {
     "data": {
      "text/html": [
       "<div>\n",
       "<style scoped>\n",
       "    .dataframe tbody tr th:only-of-type {\n",
       "        vertical-align: middle;\n",
       "    }\n",
       "\n",
       "    .dataframe tbody tr th {\n",
       "        vertical-align: top;\n",
       "    }\n",
       "\n",
       "    .dataframe thead th {\n",
       "        text-align: right;\n",
       "    }\n",
       "</style>\n",
       "<table border=\"1\" class=\"dataframe\">\n",
       "  <thead>\n",
       "    <tr style=\"text-align: right;\">\n",
       "      <th></th>\n",
       "      <th>International airline passengers: monthly totals in thousands. Jan 49 ? Dec 60</th>\n",
       "    </tr>\n",
       "  </thead>\n",
       "  <tbody>\n",
       "    <tr>\n",
       "      <th>0</th>\n",
       "      <td>112</td>\n",
       "    </tr>\n",
       "    <tr>\n",
       "      <th>1</th>\n",
       "      <td>118</td>\n",
       "    </tr>\n",
       "    <tr>\n",
       "      <th>2</th>\n",
       "      <td>132</td>\n",
       "    </tr>\n",
       "    <tr>\n",
       "      <th>3</th>\n",
       "      <td>129</td>\n",
       "    </tr>\n",
       "    <tr>\n",
       "      <th>4</th>\n",
       "      <td>121</td>\n",
       "    </tr>\n",
       "  </tbody>\n",
       "</table>\n",
       "</div>"
      ],
      "text/plain": [
       "   International airline passengers: monthly totals in thousands. Jan 49 ? Dec 60\n",
       "0                                                112                             \n",
       "1                                                118                             \n",
       "2                                                132                             \n",
       "3                                                129                             \n",
       "4                                                121                             "
      ]
     },
     "execution_count": 145,
     "metadata": {},
     "output_type": "execute_result"
    }
   ],
   "source": [
    "del df[\"Month\"]                           #we don't really care about the name of the month\n",
    "df.head()    "
   ]
  },
  {
   "cell_type": "code",
   "execution_count": 146,
   "metadata": {},
   "outputs": [
    {
     "data": {
      "text/plain": [
       "(144, 1)"
      ]
     },
     "execution_count": 146,
     "metadata": {},
     "output_type": "execute_result"
    }
   ],
   "source": [
    "values=df.values.astype(\"float32\")\n",
    "values.shape"
   ]
  },
  {
   "cell_type": "code",
   "execution_count": 147,
   "metadata": {},
   "outputs": [
    {
     "name": "stdout",
     "output_type": "stream",
     "text": [
      "(96, 1)\n",
      "(48, 1)\n"
     ]
    }
   ],
   "source": [
    "#Train-Test-Split:\n",
    "#We won't be using model_selection.train_test_split() as it will do a random \n",
    "#split,we want first few months as train and the ones that come after as test\n",
    "\n",
    "train_size=int(values.shape[0]*0.67)                   #2/3rds of data is train, 1/3rd is test\n",
    "train=values[:train_size]\n",
    "test=values[train_size:]\n",
    "\n",
    "print(train.shape)\n",
    "print(test.shape)"
   ]
  },
  {
   "cell_type": "markdown",
   "metadata": {},
   "source": [
    "# Feature Scaling:"
   ]
  },
  {
   "cell_type": "code",
   "execution_count": 148,
   "metadata": {},
   "outputs": [],
   "source": [
    "#min-max feature scaling:\n",
    "from sklearn.preprocessing import MinMaxScaler\n",
    "sc=MinMaxScaler(feature_range=(0,1))\n",
    "train=sc.fit_transform(train)\n",
    "test=sc.transform(test)"
   ]
  },
  {
   "cell_type": "markdown",
   "metadata": {},
   "source": [
    "# Creating the Dataset in Desired Format:"
   ]
  },
  {
   "cell_type": "code",
   "execution_count": 149,
   "metadata": {},
   "outputs": [],
   "source": [
    "#see RNN videos to know what the desired format is if u don't know already\n",
    "def create_dataset(data,k):                         #K: look_back window size\n",
    "    dataX,dataY=[],[]                               #to be returned\n",
    "    for i in range(data.shape[0]-k):                #eg. for 1000 datapoints and window_size 100,u will get 900 samples\n",
    "        dataX.append(data[i:i+k,0])                 #we want rows from i to i+K and the only column(0th column)\n",
    "        dataY.append(data[i+k,0])                   #y will be the (i+K)th month\n",
    "    return np.array(dataX),np.array(dataY)"
   ]
  },
  {
   "cell_type": "code",
   "execution_count": 150,
   "metadata": {
    "scrolled": false
   },
   "outputs": [
    {
     "data": {
      "text/plain": [
       "array([[0.02588999, 0.04530746, 0.09061491, ..., 0.04854369, 0.        ,\n",
       "        0.04530746],\n",
       "       [0.04530746, 0.09061491, 0.08090615, ..., 0.        , 0.04530746,\n",
       "        0.03559873],\n",
       "       [0.09061491, 0.08090615, 0.05501619, ..., 0.04530746, 0.03559873,\n",
       "        0.07119742],\n",
       "       ...,\n",
       "       [0.55016184, 0.43042073, 0.5631068 , ..., 1.0000001 , 0.9741101 ,\n",
       "        0.8122978 ],\n",
       "       [0.43042073, 0.5631068 , 0.5825243 , ..., 0.9741101 , 0.8122978 ,\n",
       "        0.6537217 ],\n",
       "       [0.5631068 , 0.5825243 , 0.5598706 , ..., 0.8122978 , 0.6537217 ,\n",
       "        0.5404531 ]], dtype=float32)"
      ]
     },
     "execution_count": 150,
     "metadata": {},
     "output_type": "execute_result"
    }
   ],
   "source": [
    "look_back=12\n",
    "x_train,y_train=create_dataset(train,look_back)\n",
    "x_test,y_test=create_dataset(test,look_back)\n",
    "x_train"
   ]
  },
  {
   "cell_type": "code",
   "execution_count": 151,
   "metadata": {
    "scrolled": true
   },
   "outputs": [
    {
     "name": "stdout",
     "output_type": "stream",
     "text": [
      "(84, 12)\n",
      "(84,)\n"
     ]
    }
   ],
   "source": [
    "print(x_train.shape)                         #84 samples, 12 months each\n",
    "print(y_train.shape)                         #result of the 13th month for each of these 84 samples"
   ]
  },
  {
   "cell_type": "markdown",
   "metadata": {},
   "source": [
    "# Training the Model:"
   ]
  },
  {
   "cell_type": "code",
   "execution_count": 152,
   "metadata": {},
   "outputs": [],
   "source": [
    "from keras.models import Sequential\n",
    "from keras.layers import SimpleRNN,Dense"
   ]
  },
  {
   "cell_type": "code",
   "execution_count": 153,
   "metadata": {},
   "outputs": [],
   "source": [
    "#Creating the model\n",
    "model=Sequential()"
   ]
  },
  {
   "cell_type": "code",
   "execution_count": 154,
   "metadata": {},
   "outputs": [],
   "source": [
    "#reshaping x_train and x_test to n*12*1 (from n*12) because the first layer of (any) neural network\n",
    "#requires the shape of the input data points coming to it(it only requires the shape of each (single)\n",
    "#point). In thsi case, input data point should be of the shape 12*1(as there are 12 months and only \n",
    "# 1 feature(no. of passengers in a month), if there were say m features=> shape of each data point:\n",
    "#12*m):\n",
    "\n",
    "x_train=x_train.reshape(x_train.shape[0],x_train.shape[1],1)\n",
    "x_test=x_test.reshape(x_test.shape[0],x_test.shape[1],1)"
   ]
  },
  {
   "cell_type": "code",
   "execution_count": 155,
   "metadata": {},
   "outputs": [],
   "source": [
    "#Creating the layers:\n",
    "model.add(SimpleRNN(4,input_shape=(look_back,1)))                             #4 units, each input data point of shape 12*1(12 months, 1 feature:no. of passengers in a month)\n",
    "model.add(Dense(1))"
   ]
  },
  {
   "cell_type": "code",
   "execution_count": 156,
   "metadata": {},
   "outputs": [],
   "source": [
    "model.compile(loss=\"mean_squared_error\",optimizer=\"adam\")      \n",
    "#note that u can't use metric accuracy here as accuracy is for\n",
    "#classification problems. This is a regression problem. U can \n",
    "#use mean_squared error metric here(however loss is already \n",
    "#specified as mean_squared error))"
   ]
  },
  {
   "cell_type": "code",
   "execution_count": 157,
   "metadata": {
    "scrolled": true
   },
   "outputs": [
    {
     "name": "stdout",
     "output_type": "stream",
     "text": [
      "Train on 84 samples, validate on 36 samples\n",
      "Epoch 1/100\n",
      "84/84 [==============================] - 2s 21ms/step - loss: 0.0440 - val_loss: 0.6379\n",
      "Epoch 2/100\n",
      "84/84 [==============================] - 0s 4ms/step - loss: 0.0326 - val_loss: 0.4793\n",
      "Epoch 3/100\n",
      "84/84 [==============================] - 0s 5ms/step - loss: 0.0265 - val_loss: 0.4176\n",
      "Epoch 4/100\n",
      "84/84 [==============================] - 0s 5ms/step - loss: 0.0227 - val_loss: 0.4196\n",
      "Epoch 5/100\n",
      "84/84 [==============================] - 0s 5ms/step - loss: 0.0202 - val_loss: 0.3298\n",
      "Epoch 6/100\n",
      "84/84 [==============================] - 0s 5ms/step - loss: 0.0166 - val_loss: 0.3194\n",
      "Epoch 7/100\n",
      "84/84 [==============================] - 0s 5ms/step - loss: 0.0154 - val_loss: 0.2966\n",
      "Epoch 8/100\n",
      "84/84 [==============================] - 0s 5ms/step - loss: 0.0138 - val_loss: 0.2236\n",
      "Epoch 9/100\n",
      "84/84 [==============================] - 0s 4ms/step - loss: 0.0135 - val_loss: 0.1992\n",
      "Epoch 10/100\n",
      "84/84 [==============================] - 0s 5ms/step - loss: 0.0110 - val_loss: 0.1714\n",
      "Epoch 11/100\n",
      "84/84 [==============================] - 0s 4ms/step - loss: 0.0113 - val_loss: 0.1766\n",
      "Epoch 12/100\n",
      "84/84 [==============================] - 0s 5ms/step - loss: 0.0095 - val_loss: 0.1448\n",
      "Epoch 13/100\n",
      "84/84 [==============================] - 0s 5ms/step - loss: 0.0111 - val_loss: 0.1404\n",
      "Epoch 14/100\n",
      "84/84 [==============================] - 0s 5ms/step - loss: 0.0093 - val_loss: 0.1338\n",
      "Epoch 15/100\n",
      "84/84 [==============================] - 0s 5ms/step - loss: 0.0092 - val_loss: 0.1249\n",
      "Epoch 16/100\n",
      "84/84 [==============================] - 0s 4ms/step - loss: 0.0081 - val_loss: 0.1307\n",
      "Epoch 17/100\n",
      "84/84 [==============================] - 0s 5ms/step - loss: 0.0082 - val_loss: 0.1229\n",
      "Epoch 18/100\n",
      "84/84 [==============================] - 0s 5ms/step - loss: 0.0078 - val_loss: 0.1048\n",
      "Epoch 19/100\n",
      "84/84 [==============================] - 0s 5ms/step - loss: 0.0075 - val_loss: 0.1231\n",
      "Epoch 20/100\n",
      "84/84 [==============================] - 0s 5ms/step - loss: 0.0075 - val_loss: 0.1083\n",
      "Epoch 21/100\n",
      "84/84 [==============================] - 0s 5ms/step - loss: 0.0075 - val_loss: 0.0893\n",
      "Epoch 22/100\n",
      "84/84 [==============================] - 0s 5ms/step - loss: 0.0074 - val_loss: 0.1021\n",
      "Epoch 23/100\n",
      "84/84 [==============================] - 0s 5ms/step - loss: 0.0072 - val_loss: 0.0973\n",
      "Epoch 24/100\n",
      "84/84 [==============================] - 0s 5ms/step - loss: 0.0068 - val_loss: 0.0829\n",
      "Epoch 25/100\n",
      "84/84 [==============================] - 0s 5ms/step - loss: 0.0069 - val_loss: 0.1017\n",
      "Epoch 26/100\n",
      "84/84 [==============================] - 0s 6ms/step - loss: 0.0073 - val_loss: 0.1006\n",
      "Epoch 27/100\n",
      "84/84 [==============================] - 0s 5ms/step - loss: 0.0070 - val_loss: 0.0898\n",
      "Epoch 28/100\n",
      "84/84 [==============================] - 0s 4ms/step - loss: 0.0060 - val_loss: 0.0772\n",
      "Epoch 29/100\n",
      "84/84 [==============================] - 0s 5ms/step - loss: 0.0066 - val_loss: 0.0778\n",
      "Epoch 30/100\n",
      "84/84 [==============================] - 0s 5ms/step - loss: 0.0064 - val_loss: 0.0809\n",
      "Epoch 31/100\n",
      "84/84 [==============================] - 0s 5ms/step - loss: 0.0060 - val_loss: 0.0844\n",
      "Epoch 32/100\n",
      "84/84 [==============================] - 0s 5ms/step - loss: 0.0063 - val_loss: 0.0757\n",
      "Epoch 33/100\n",
      "84/84 [==============================] - 0s 5ms/step - loss: 0.0062 - val_loss: 0.0744\n",
      "Epoch 34/100\n",
      "84/84 [==============================] - 0s 5ms/step - loss: 0.0065 - val_loss: 0.0805\n",
      "Epoch 35/100\n",
      "84/84 [==============================] - 0s 5ms/step - loss: 0.0060 - val_loss: 0.0814\n",
      "Epoch 36/100\n",
      "84/84 [==============================] - 0s 5ms/step - loss: 0.0055 - val_loss: 0.0612\n",
      "Epoch 37/100\n",
      "84/84 [==============================] - 0s 5ms/step - loss: 0.0065 - val_loss: 0.0768\n",
      "Epoch 38/100\n",
      "84/84 [==============================] - 0s 5ms/step - loss: 0.0054 - val_loss: 0.0633\n",
      "Epoch 39/100\n",
      "84/84 [==============================] - 0s 5ms/step - loss: 0.0057 - val_loss: 0.0610\n",
      "Epoch 40/100\n",
      "84/84 [==============================] - 0s 6ms/step - loss: 0.0059 - val_loss: 0.0673\n",
      "Epoch 41/100\n",
      "84/84 [==============================] - 0s 5ms/step - loss: 0.0052 - val_loss: 0.0706\n",
      "Epoch 42/100\n",
      "84/84 [==============================] - 0s 6ms/step - loss: 0.0053 - val_loss: 0.0627\n",
      "Epoch 43/100\n",
      "84/84 [==============================] - 0s 4ms/step - loss: 0.0054 - val_loss: 0.0636\n",
      "Epoch 44/100\n",
      "84/84 [==============================] - 0s 5ms/step - loss: 0.0053 - val_loss: 0.0547\n",
      "Epoch 45/100\n",
      "84/84 [==============================] - 0s 6ms/step - loss: 0.0053 - val_loss: 0.0586\n",
      "Epoch 46/100\n",
      "84/84 [==============================] - 0s 5ms/step - loss: 0.0052 - val_loss: 0.0610\n",
      "Epoch 47/100\n",
      "84/84 [==============================] - 0s 6ms/step - loss: 0.0053 - val_loss: 0.0547\n",
      "Epoch 48/100\n",
      "84/84 [==============================] - 0s 4ms/step - loss: 0.0051 - val_loss: 0.0522\n",
      "Epoch 49/100\n",
      "84/84 [==============================] - 1s 7ms/step - loss: 0.0047 - val_loss: 0.0435\n",
      "Epoch 50/100\n",
      "84/84 [==============================] - 0s 4ms/step - loss: 0.0050 - val_loss: 0.0494\n",
      "Epoch 51/100\n",
      "84/84 [==============================] - 0s 4ms/step - loss: 0.0047 - val_loss: 0.0423\n",
      "Epoch 52/100\n",
      "84/84 [==============================] - 0s 4ms/step - loss: 0.0051 - val_loss: 0.0458\n",
      "Epoch 53/100\n",
      "84/84 [==============================] - 0s 4ms/step - loss: 0.0051 - val_loss: 0.0415\n",
      "Epoch 54/100\n",
      "84/84 [==============================] - 0s 4ms/step - loss: 0.0051 - val_loss: 0.0441\n",
      "Epoch 55/100\n",
      "84/84 [==============================] - 0s 4ms/step - loss: 0.0047 - val_loss: 0.0406\n",
      "Epoch 56/100\n",
      "84/84 [==============================] - 0s 4ms/step - loss: 0.0045 - val_loss: 0.0361\n",
      "Epoch 57/100\n",
      "84/84 [==============================] - 0s 4ms/step - loss: 0.0047 - val_loss: 0.0397\n",
      "Epoch 58/100\n",
      "84/84 [==============================] - 0s 4ms/step - loss: 0.0045 - val_loss: 0.0432\n",
      "Epoch 59/100\n",
      "84/84 [==============================] - 0s 4ms/step - loss: 0.0045 - val_loss: 0.0359\n",
      "Epoch 60/100\n",
      "84/84 [==============================] - 0s 4ms/step - loss: 0.0045 - val_loss: 0.0371\n",
      "Epoch 61/100\n",
      "84/84 [==============================] - 0s 4ms/step - loss: 0.0046 - val_loss: 0.0396\n",
      "Epoch 62/100\n",
      "84/84 [==============================] - 0s 4ms/step - loss: 0.0044 - val_loss: 0.0363\n",
      "Epoch 63/100\n",
      "84/84 [==============================] - 0s 5ms/step - loss: 0.0044 - val_loss: 0.0372\n",
      "Epoch 64/100\n",
      "84/84 [==============================] - 0s 5ms/step - loss: 0.0045 - val_loss: 0.0412\n",
      "Epoch 65/100\n",
      "84/84 [==============================] - 0s 5ms/step - loss: 0.0048 - val_loss: 0.0391\n",
      "Epoch 66/100\n",
      "84/84 [==============================] - 0s 6ms/step - loss: 0.0044 - val_loss: 0.0355\n",
      "Epoch 67/100\n",
      "84/84 [==============================] - 0s 5ms/step - loss: 0.0041 - val_loss: 0.0327\n",
      "Epoch 68/100\n",
      "84/84 [==============================] - 0s 5ms/step - loss: 0.0043 - val_loss: 0.0312\n",
      "Epoch 69/100\n",
      "84/84 [==============================] - 0s 5ms/step - loss: 0.0043 - val_loss: 0.0306\n",
      "Epoch 70/100\n",
      "84/84 [==============================] - 0s 5ms/step - loss: 0.0043 - val_loss: 0.0308\n",
      "Epoch 71/100\n",
      "84/84 [==============================] - 0s 5ms/step - loss: 0.0042 - val_loss: 0.0280\n",
      "Epoch 72/100\n",
      "84/84 [==============================] - 0s 5ms/step - loss: 0.0041 - val_loss: 0.0313\n",
      "Epoch 73/100\n",
      "84/84 [==============================] - 0s 5ms/step - loss: 0.0042 - val_loss: 0.0306\n",
      "Epoch 74/100\n",
      "84/84 [==============================] - 0s 5ms/step - loss: 0.0040 - val_loss: 0.0286\n",
      "Epoch 75/100\n",
      "84/84 [==============================] - 0s 5ms/step - loss: 0.0041 - val_loss: 0.0267\n",
      "Epoch 76/100\n",
      "84/84 [==============================] - 0s 6ms/step - loss: 0.0039 - val_loss: 0.0266\n",
      "Epoch 77/100\n",
      "84/84 [==============================] - 0s 6ms/step - loss: 0.0036 - val_loss: 0.0298\n",
      "Epoch 78/100\n",
      "84/84 [==============================] - 0s 6ms/step - loss: 0.0043 - val_loss: 0.0249\n",
      "Epoch 79/100\n",
      "84/84 [==============================] - 0s 5ms/step - loss: 0.0038 - val_loss: 0.0256\n",
      "Epoch 80/100\n",
      "84/84 [==============================] - 0s 5ms/step - loss: 0.0037 - val_loss: 0.0253\n",
      "Epoch 81/100\n",
      "84/84 [==============================] - 0s 5ms/step - loss: 0.0033 - val_loss: 0.0243\n",
      "Epoch 82/100\n",
      "84/84 [==============================] - 0s 4ms/step - loss: 0.0039 - val_loss: 0.0242\n",
      "Epoch 83/100\n",
      "84/84 [==============================] - 0s 5ms/step - loss: 0.0035 - val_loss: 0.0238\n",
      "Epoch 84/100\n",
      "84/84 [==============================] - 0s 5ms/step - loss: 0.0033 - val_loss: 0.0239\n",
      "Epoch 85/100\n",
      "84/84 [==============================] - 0s 5ms/step - loss: 0.0034 - val_loss: 0.0236\n",
      "Epoch 86/100\n",
      "84/84 [==============================] - 1s 6ms/step - loss: 0.0040 - val_loss: 0.0224\n",
      "Epoch 87/100\n",
      "84/84 [==============================] - 0s 6ms/step - loss: 0.0033 - val_loss: 0.0224\n",
      "Epoch 88/100\n",
      "84/84 [==============================] - 0s 5ms/step - loss: 0.0034 - val_loss: 0.0222\n",
      "Epoch 89/100\n",
      "84/84 [==============================] - 0s 4ms/step - loss: 0.0032 - val_loss: 0.0224\n",
      "Epoch 90/100\n",
      "84/84 [==============================] - 0s 4ms/step - loss: 0.0035 - val_loss: 0.0222\n",
      "Epoch 91/100\n",
      "84/84 [==============================] - 0s 5ms/step - loss: 0.0034 - val_loss: 0.0232\n",
      "Epoch 92/100\n",
      "84/84 [==============================] - 0s 4ms/step - loss: 0.0033 - val_loss: 0.0227\n",
      "Epoch 93/100\n",
      "84/84 [==============================] - 0s 5ms/step - loss: 0.0033 - val_loss: 0.0227\n",
      "Epoch 94/100\n",
      "84/84 [==============================] - 0s 5ms/step - loss: 0.0030 - val_loss: 0.0225\n",
      "Epoch 95/100\n",
      "84/84 [==============================] - 0s 4ms/step - loss: 0.0031 - val_loss: 0.0241\n",
      "Epoch 96/100\n",
      "84/84 [==============================] - 0s 5ms/step - loss: 0.0027 - val_loss: 0.0278\n",
      "Epoch 97/100\n",
      "84/84 [==============================] - 0s 6ms/step - loss: 0.0033 - val_loss: 0.0241\n",
      "Epoch 98/100\n",
      "84/84 [==============================] - 0s 5ms/step - loss: 0.0031 - val_loss: 0.0227\n",
      "Epoch 99/100\n",
      "84/84 [==============================] - 0s 5ms/step - loss: 0.0031 - val_loss: 0.0223\n",
      "Epoch 100/100\n",
      "84/84 [==============================] - 0s 5ms/step - loss: 0.0029 - val_loss: 0.0219\n"
     ]
    },
    {
     "data": {
      "text/plain": [
       "<keras.callbacks.History at 0x20118e336a0>"
      ]
     },
     "execution_count": 157,
     "metadata": {},
     "output_type": "execute_result"
    }
   ],
   "source": [
    "model.fit(x_train,y_train,epochs=100,batch_size=1,validation_data=[x_test,y_test])\n",
    "\n",
    "#optimization is done by back_propagation_through_time(since output depends upon \n",
    "#previous input/output, we need to go back in time and optimize weights starting \n",
    "#from there(don't worry if u don't understand))"
   ]
  },
  {
   "cell_type": "code",
   "execution_count": 158,
   "metadata": {
    "scrolled": true
   },
   "outputs": [],
   "source": [
    "y_pred=model.predict(x_test)\n",
    "y_pred=(sc.inverse_transform(y_pred)).reshape(y_pred.shape[0])          #reverse feature scaling, and reshaping to 1d array\n",
    "\n",
    "y_test=sc.inverse_transform([y_test])\n",
    "y_test=y_test.reshape(y_test.shape[1])                                   \n",
    "#our scaler can only scale 2d data, thus we need to convert 1d y_test to 2d by enclosing it in a list\n",
    "\n",
    "#we are getting these because we want to plot graphs(we can also plot for test):\n",
    "y_train_pred=model.predict(x_train)\n",
    "y_train_pred=(sc.inverse_transform(y_train_pred)).reshape(y_train_pred.shape[0])\n",
    "\n",
    "y_train=sc.inverse_transform([y_train])\n",
    "y_train=y_train.reshape(y_train.shape[1])"
   ]
  },
  {
   "cell_type": "code",
   "execution_count": 159,
   "metadata": {},
   "outputs": [],
   "source": [
    "from matplotlib import pyplot as plt"
   ]
  },
  {
   "cell_type": "code",
   "execution_count": 160,
   "metadata": {},
   "outputs": [
    {
     "data": {
      "image/png": "[encoded data removed]",
      "text/plain": [
       "<Figure size 432x288 with 1 Axes>"
      ]
     },
     "metadata": {
      "needs_background": "light"
     },
     "output_type": "display_data"
    }
   ],
   "source": [
    "plt.plot(y_train_pred,color=\"orange\")\n",
    "plt.plot(y_train,color=\"blue\")\n",
    "plt.show()\n",
    "#our y_train_predictions are almost close to y_train_true"
   ]
  },
  {
   "cell_type": "code",
   "execution_count": 161,
   "metadata": {},
   "outputs": [
    {
     "data": {
      "image/png": "[encoded data removed]",
      "text/plain": [
       "<Figure size 432x288 with 1 Axes>"
      ]
     },
     "metadata": {
      "needs_background": "light"
     },
     "output_type": "display_data"
    }
   ],
   "source": [
    "plt.plot(y_pred,color=\"orange\")\n",
    "plt.plot(y_test,color=\"blue\")\n",
    "plt.show()\n",
    "#it is not doing as well as for training datam but still, if y_test is going up\n",
    "#y_pred is also going up and if down, down. This means that we have atleast generated\n",
    "#according to a sequence(for exmple during summer months, there would be a rise in no.\n",
    "#of passengers due to vactions)."
   ]
  },
  {
   "cell_type": "code",
   "execution_count": 167,
   "metadata": {},
   "outputs": [
    {
     "data": {
      "image/png": "[encoded data removed]",
      "text/plain": [
       "<Figure size 432x288 with 1 Axes>"
      ]
     },
     "metadata": {
      "needs_background": "light"
     },
     "output_type": "display_data"
    }
   ],
   "source": [
    "#lets combine both training and testing preedicitons and see the plot:\n",
    "combined_true=np.concatenate((y_train,y_test))                        #concatenate takes a tuple\n",
    "combined_pred=np.concatenate((y_train_pred,y_pred))\n",
    "\n",
    "plt.plot(combined_pred,color=\"orange\")\n",
    "plt.plot(combined_true,color=\"blue\")\n",
    "plt.show()\n",
    "\n",
    "#see that after a while, it is not getting as much accuracy \n",
    "#initlially but it is still going along the same direction.\n",
    "#Thus, RNN is producing a COHERENT(it is not randomly going \n",
    "#up or down, it goes up or down according to a definite \n",
    "#pattern) sequence given a training sequence."
   ]
  }
 ],
 "metadata": {
  "kernelspec": {
   "display_name": "Python 3",
   "language": "python",
   "name": "python3"
  },
  "language_info": {
   "codemirror_mode": {
    "name": "ipython",
    "version": 3
   },
   "file_extension": ".py",
   "mimetype": "text/x-python",
   "name": "python",
   "nbconvert_exporter": "python",
   "pygments_lexer": "ipython3",
   "version": "3.7.2"
  }
 },
 "nbformat": 4,
 "nbformat_minor": 2
}
