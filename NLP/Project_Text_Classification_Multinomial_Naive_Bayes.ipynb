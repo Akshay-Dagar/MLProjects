{
 "cells": [
  {
   "cell_type": "markdown",
   "metadata": {},
   "source": [
    "# ___________Text Classification Using Multinomial Naive Bayes Classifier__                                                        "
   ]
  },
  {
   "cell_type": "markdown",
   "metadata": {},
   "source": [
    "As data is discrete, Multinomial Naive Bayes Works best on this. Also features(words) are independent of each other."
   ]
  },
  {
   "cell_type": "markdown",
   "metadata": {},
   "source": [
    "# Importing Modules"
   ]
  },
  {
   "cell_type": "code",
   "execution_count": 138,
   "metadata": {},
   "outputs": [
    {
     "name": "stderr",
     "output_type": "stream",
     "text": [
      "[nltk_data] Downloading package stopwords to\n",
      "[nltk_data]     C:\\Users\\akshay\\AppData\\Roaming\\nltk_data...\n",
      "[nltk_data]   Package stopwords is already up-to-date!\n"
     ]
    }
   ],
   "source": [
    "import numpy as np\n",
    "import pandas as pd\n",
    "from matplotlib import pyplot as plt\n",
    "import os                                                   #to open files(traversing directory)\n",
    "import nltk                                                 #for stop words\n",
    "nltk.download('stopwords')\n",
    "from nltk.corpus import stopwords                   \n",
    "from collections import Counter                            \n",
    "from sklearn.model_selection import train_test_split\n",
    "from sklearn.naive_bayes import MultinomialNB\n",
    "from sklearn.metrics import confusion_matrix\n",
    "from sklearn.metrics import classification_report"
   ]
  },
  {
   "cell_type": "markdown",
   "metadata": {},
   "source": [
    "# Getting Desired X_train and Y_train from given data"
   ]
  },
  {
   "cell_type": "code",
   "execution_count": 140,
   "metadata": {},
   "outputs": [],
   "source": [
    "stop=set(stopwords.words(\"english\"))                         #stopwords as a set\n",
    "block_words = set(['sender:','subject:','writes:',           #other unnecessary words as a set\n",
    "              'references:','organization:','>',\n",
    "              'from:','date:','>i','22','|>','>>',\n",
    "              'reply-to:','xref:','newsgroups:','>in',\n",
    "              '>the','message-id:','lines:','path:',\n",
    "              're:','--','sender:','last','better',\n",
    "              'never','every','even','two','good','used'\n",
    "              ,'first','need','going','must','really',\n",
    "              'might','well','without','made','give',\n",
    "              'look','try','far','less','seem','new',\n",
    "              'make','many','way','since','using','take'\n",
    "              ,'help','thanks','send','free','may','see',\n",
    "              'much','want','find','would','one','like',\n",
    "              'get','use','also','could','say','us','go',\n",
    "              'please','said','set','got','sure','come',\n",
    "              'lot','seems','able','anything','put','apr',\n",
    "              'gmt','article','nntp-posting-host:','anyone',\n",
    "              'time','still','back','another','read','number',\n",
    "              'file','let','cannot','told','files','yet','per'])"
   ]
  },
  {
   "cell_type": "code",
   "execution_count": 141,
   "metadata": {},
   "outputs": [
    {
     "data": {
      "image/png": "[encoded data removed]",
      "text/plain": [
       "<Figure size 432x288 with 1 Axes>"
      ]
     },
     "metadata": {
      "needs_background": "light"
     },
     "output_type": "display_data"
    }
   ],
   "source": [
    "allWords=[]                                                 #a list of all words\n",
    "mainPath=\"C:\\\\Users\\\\akshay\\\\Desktop\\\\20_newsgroups\"        #path to main folder containing subfolders of each type of article\n",
    "for subFolder in os.listdir(mainPath):                      #os.listdir lists all folders/files in a given folder   \n",
    "    subFolderPath=mainPath+\"\\\\\"+subFolder                   #path of each subfolder\n",
    "    for file in os.listdir(subFolderPath):                  #listing all files in each subfolder\n",
    "        fileObj=open(subFolderPath+\"\\\\\"+file,\"r\")           #opening files sequentially\n",
    "        fileContent=fileObj.read()                          #reading the content of the files\n",
    "        words=(fileContent.strip()).split()                 #getting al the words in the file in the form of a list\n",
    "        for w in words:                                     #adding the words to list allWords (excl. stop words)\n",
    "            w=w.lower()                                     #if word is uppercase, make it lower\n",
    "            if w in stop or w in block_words or len(w)<=2 or not(w.isalpha()):\n",
    "                continue\n",
    "            allWords.append(w)\n",
    "        fileObj.close()\n",
    "Words=Counter(allWords)\n",
    "sortedWords=Words.most_common()                             #sorting words acc. to decreasing freq.,as list of word, freq.\n",
    "x_axis=[]                                                   #current word\n",
    "y_axis=[]                                                   #frequency\n",
    "for i in range(2000,3000):                                  #since words after 3000 have frequency lesser than 100, we shall\n",
    "    x_axis.append(i)                                        #take the first 3000 words only. Although, the scorr would increase\n",
    "    y_axis.append(sortedWords[i][1])                        #with no. of features(words).However, prediction time will be high\n",
    "plt.plot(x_axis,y_axis)                                     #if no. of words increase.\n",
    "plt.xlabel(\"Word_Number\")\n",
    "plt.ylabel(\"Word_Frequency\")\n",
    "plt.grid()\n",
    "plt.show()"
   ]
  },
  {
   "cell_type": "code",
   "execution_count": 157,
   "metadata": {
    "scrolled": true
   },
   "outputs": [
    {
     "name": "stdout",
     "output_type": "stream",
     "text": [
      "['people', 'university', 'know', 'think', 'world', 'right', 'believe', 'something', 'computer', 'system', 'god', 'news', 'state', 'work', 'someone', 'government', 'problem', 'usa', 'information', 'things', 'part', 'point', 'little', 'windows', 'data', 'question', 'probably', 'years', 'different', 'available', 'space', 'around', 'long', 'tell', 'least', 'best', 'program', 'software', 'public', 'power', 'thing', 'drive', 'run', 'support', 'rather', 'enough', 'case', 'hard', 'keep', 'fact', 'science', 'called', 'great', 'call', 'looking', 'found', 'real', 'nothing', 'quite', 'seen', 'law', 'whether', 'trying', 'old', 'actually', 'second', 'mean', 'research', 'group', 'ever', 'always', 'heard', 'several', 'bit', 'next', 'message', 'year', 'reason', 'access', 'three', 'maybe', 'national', 'getting', 'following', 'key', 'either', 'car', 'systems', 'given', 'thought', 'image', 'list', 'post', 'makes', 'kind', 'jesus', 'human', 'means', 'order', 'person', 'day', 'high', 'game', 'done', 'christian', 'big', 'end', 'version', 'general', 'start', 'line', 'name', 'based', 'center', 'possible', 'david', 'evidence', 'life', 'local', 'else', 'card', 'says', 'saying', 'team', 'came', 'john', 'gun', 'idea', 'pretty', 'true', 'whole', 'left', 'running', 'already', 'problems', 'american', 'bad', 'institute', 'small', 'control', 'change', 'man', 'perhaps', 'large', 'place', 'current', 'window', 'original', 'ask', 'hope', 'word', 'though', 'buy', 'simply', 'feel', 'others', 'show', 'remember', 'went', 'department', 'almost', 'turkish', 'full', 'mail', 'standard', 'dos', 'book', 'technology', 'email', 'mac', 'comes', 'chip', 'times', 'opinions', 'april', 'code', 'armenian', 'pay', 'agree', 'certainly', 'questions', 'making', 'away', 'disk', 'open', 'live', 'children', 'bill', 'graphics', 'interested', 'started', 'understand', 'claim', 'source', 'rights', 'often', 'phone', 'video', 'within', 'care', 'answer', 'everything', 'consider', 'israel', 'working', 'tried', 'love', 'private', 'everyone', 'network', 'health', 'fbi', 'scsi', 'single', 'works', 'money', 'including', 'note', 'couple', 'box', 'talking', 'guess', 'price', 'jews', 'type', 'unless', 'tin', 'wanted', 'jewish', 'took', 'president', 'san', 'play', 'info', 'course', 'home', 'sort', 'color', 'college', 'sun', 'matter', 'major', 'although', 'write', 'canada', 'states', 'likely', 'anybody', 'bible', 'encryption', 'among', 'important', 'copy', 'provide', 'certain', 'instead', 'white', 'similar', 'religious', 'cause', 'wrong', 'western', 'address', 'posting', 'check', 'become', 'saw', 'via', 'issue', 'israeli', 'speed', 'fire', 'engineering', 'asked', 'games', 'user', 'police', 'machine', 'ftp', 'political', 'taken', 'memory', 'known', 'upon', 'school', 'christians', 'clear', 'stop', 'black', 'clipper', 'include', 'usually', 'exactly', 'difference', 'personal', 'war', 'win', 'display', 'programs', 'written', 'common', 'server', 'cost', 'church', 'especially', 'days', 'house', 'today', 'unix', 'goes', 'mark', 'stuff', 'medical', 'services', 'talk', 'value', 'morality', 'according', 'four', 'hear', 'men', 'ibm', 'mind', 'reading', 'uses', 'special', 'united', 'due', 'side', 'accept', 'nice', 'gets', 'expect', 'turn', 'top', 'rest', 'history', 'sound', 'shall', 'early', 'security', 'add', 'apple', 'service', 'moral', 'third', 'various', 'form', 'killed', 'light', 'armenians', 'longer', 'area', 'simple', 'low', 'contact', 'religion', 'taking', 'deal', 'paul', 'needs', 'posted', 'clinton', 'test', 'allow', 'kill', 'sale', 'federal', 'except', 'earth', 'assume', 'death', 'michael', 'application', 'hockey', 'considered', 'text', 'previous', 'argument', 'objective', 'coming', 'subject', 'hit', 'sell', 'international', 'discussion', 'example', 'front', 'speak', 'driver', 'thus', 'lost', 'koresh', 'hell', 'study', 'needed', 'members', 'particular', 'package', 'specific', 'mike', 'later', 'includes', 'willing', 'sometimes', 'explain', 'sense', 'looks', 'view', 'interesting', 'press', 'hold', 'company', 'radio', 'steve', 'women', 'body', 'past', 'move', 'division', 'statement', 'guy', 'texas', 'military', 'near', 'experience', 'position', 'force', 'easy', 'million', 'runs', 'wants', 'behind', 'faith', 'fast', 'monitor', 'sent', 'size', 'players', 'board', 'hardware', 'takes', 'whatever', 'build', 'internet', 'red', 'strong', 'laws', 'doubt', 'happened', 'words', 'computing', 'save', 'asking', 'york', 'worth', 'higher', 'country', 'total', 'model', 'leave', 'recently', 'thinking', 'plus', 'communications', 'users', 'young', 'california', 'numbers', 'ago', 'books', 'technical', 'net', 'level', 'images', 'sounds', 'theory', 'situation', 'along', 'result', 'insurance', 'bought', 'city', 'knows', 'truth', 'effect', 'close', 'outside', 'gives', 'ones', 'society', 'groups', 'gave', 'supposed', 'head', 'james', 'none', 'return', 'complete', 'main', 'bike', 'nasa', 'looked', 'reference', 'serial', 'create', 'correct', 'legal', 'policy', 'report', 'bus', 'series', 'guns', 'anonymous', 'business', 'entire', 'project', 'short', 'clearly', 'currently', 'screen', 'present', 'therefore', 'happen', 'act', 'basic', 'necessarily', 'cut', 'north', 'completely', 'gas', 'jpeg', 'dod', 'neither', 'dead', 'design', 'baseball', 'face', 'suggest', 'response', 'months', 'involved', 'christ', 'parts', 'mentioned', 'amount', 'illinois', 'quality', 'built', 'thank', 'bring', 'living', 'error', 'follow', 'scientific', 'drivers', 'rate', 'league', 'drug', 'claims', 'points', 'edt', 'water', 'jim', 'batf', 'created', 'muslim', 'night', 'digital', 'whose', 'future', 'faq', 'job', 'lines', 'performance', 'media', 'arab', 'serious', 'output', 'mouse', 'designed', 'russian', 'friend', 'opinion', 'process', 'lots', 'building', 'development', 'peace', 'office', 'figure', 'format', 'manager', 'results', 'final', 'tape', 'offer', 'section', 'basis', 'page', 'player', 'hand', 'land', 'toronto', 'keys', 'south', 'wonder', 'ground', 'freedom', 'recent', 'carry', 'child', 'decided', 'commercial', 'lead', 'washington', 'prove', 'individual', 'brought', 'robert', 'learn', 'inside', 'necessary', 'usenet', 'related', 'attempt', 'useful', 'regarding', 'dave', 'population', 'half', 'period', 'require', 'wish', 'chance', 'ide', 'physical', 'party', 'issues', 'drives', 'air', 'mention', 'mine', 'mode', 'required', 'normal', 'together', 'bob', 'average', 'corporation', 'armenia', 'avoid', 'stated', 'knowledge', 'extra', 'interest', 'purpose', 'knew', 'civil', 'action', 'online', 'responsible', 'held', 'week', 'reply', 'noise', 'easily', 'directly', 'ways', 'included', 'genocide', 'bbs', 'launch', 'suppose', 'modem', 'protect', 'shot', 'fax', 'reported', 'lack', 'court', 'greek', 'command', 'across', 'crime', 'algorithm', 'allowed', 'cases', 'reasonable', 'object', 'boston', 'controller', 'christianity', 'giving', 'starting', 'blue', 'fine', 'term', 'cover', 'generally', 'choice', 'continue', 'thomas', 'happy', 'applications', 'internal', 'lord', 'weapons', 'wondering', 'belief', 'oil', 'base', 'field', 'family', 'prevent', 'wait', 'release', 'values', 'reasons', 'difficult', 'ideas', 'worked', 'ram', 'tax', 'meaning', 'contains', 'caused', 'requires', 'expressed', 'shows', 'turned', 'forget', 'terms', 'ten', 'pick', 'comments', 'imagine', 'engine', 'sources', 'volume', 'killing', 'turks', 'appears', 'stand', 'nature', 'library', 'hate', 'choose', 'fairly', 'changed', 'appreciate', 'excellent', 'letter', 'limited', 'cars', 'los', 'weeks', 'germany', 'rule', 'interface', 'directory', 'microsoft', 'mailing', 'wrote', 'product', 'waco', 'plan', 'west', 'site', 'road', 'faster', 'somebody', 'port', 'food', 'muslims', 'electronic', 'five', 'record', 'existence', 'social', 'happens', 'reports', 'member', 'kept', 'lower', 'suspect', 'obviously', 'received', 'cheap', 'peter', 'realize', 'watch', 'soon', 'played', 'search', 'reserve', 'modern', 'mass', 'class', 'administration', 'apparently', 'motif', 'des', 'late', 'middle', 'beyond', 'conference', 'companies', 'soviet', 'function', 'provided', 'attack', 'secret', 'paper', 'hours', 'enforcement', 'serve', 'story', 'published', 'universe', 'rules', 'ability', 'gateway', 'mormons', 'events', 'definition', 'equipment', 'particularly', 'supports', 'multiple', 'manual', 'room', 'otherwise', 'trouble', 'device', 'nhl', 'ohio', 'merely', 'appear', 'method', 'apply', 'guys', 'market', 'possibly', 'george', 'tom', 'advice', 'chicago', 'cpu', 'cable', 'sexual', 'however', 'shuttle', 'handle', 'east', 'increase', 'studies', 'supply', 'bits', 'british', 'defense', 'understanding', 'sorry', 'son', 'cards', 'floppy', 'allows', 'playing', 'actions', 'buying', 'lives', 'sex', 'stay', 'finally', 'appropriate', 'regular', 'considering', 'fit', 'views', 'actual', 'author', 'greatly', 'pittsburgh', 'writing', 'die', 'newsgroup', 'illegal', 'independent', 'led', 'education', 'machines', 'printer', 'exists', 'seeing', 'analysis', 'station', 'direct', 'atheists', 'teams', 'respect', 'frank', 'widget', 'break', 'ray', 'obvious', 'folks', 'community', 'input', 'season', 'pass', 'remote', 'language', 'majority', 'approach', 'account', 'aware', 'latest', 'abortion', 'products', 'miles', 'provides', 'former', 'event', 'places', 'convert', 'brian', 'official', 'energy', 'van', 'fall', 'described', 'material', 'gay', 'bear', 'paid', 'draw', 'request', 'march', 'installed', 'natural', 'poor', 'totally', 'safety', 'towards', 'proof', 'joe', 'drugs', 'entry', 'nobody', 'solution', 'effective', 'mission', 'sin', 'calling', 'laboratory', 'putting', 'calls', 'islamic', 'devices', 'nuclear', 'solar', 'chips', 'decision', 'blood', 'fan', 'closed', 'vga', 'absolutely', 'bunch', 'keyboard', 'earlier', 'additional', 'trust', 'quote', 'decide', 'indeed', 'fully', 'smith', 'chris', 'spend', 'share', 'stupid', 'communication', 'foreign', 'trade', 'gif', 'goal', 'authority', 'holy', 'voice', 'andrew', 'arms', 'unit', 'font', 'gone', 'atf', 'privacy', 'receive', 'fans', 'georgia', 'citizens', 'respond', 'sold', 'express', 'poster', 'beginning', 'picture', 'evil', 'meant', 'proper', 'posts', 'father', 'prefer', 'age', 'switch', 'changes', 'homosexual', 'acts', 'wife', 'tools', 'homosexuality', 'became', 'define', 'developed', 'highly', 'notice', 'european', 'print', 'six', 'popular', 'title', 'americans', 'articles', 'tend', 'branch', 'student', 'selling', 'arguments', 'richard', 'claimed', 'hot', 'details', 'eric', 'setting', 'driving', 'noticed', 'hands', 'bmw', 'intended', 'programming', 'shown', 'virginia', 'judge', 'door', 'exist', 'basically', 'admit', 'friends', 'mountain', 'argue', 'greater', 'significant', 'separate', 'seemed', 'organization', 'soldiers', 'entirely', 'costs', 'yes', 'treatment', 'army', 'escrow', 'street', 'died', 'types', 'mother', 'names', 'heart', 'range', 'percent', 'thousands', 'external', 'perfect', 'double', 'supported', 'areas', 'vote', 'lab', 'showed', 'murder', 'produce', 'clock', 'statements', 'quick', 'references', 'beat', 'comment', 'added', 'throw', 'radar', 'secure', 'drop', 'escape', 'recall', 'existing', 'amendment', 'colorado', 'reality', 'loss', 'signal', 'historical', 'electrical', 'europe', 'compared', 'matthew', 'discuss', 'moon', 'charge', 'keeping', 'wide', 'knowing', 'facts', 'patients', 'crypto', 'resources', 'disease', 'moving', 'dealer', 'logic', 'committed', 'mostly', 'meet', 'practice', 'justice', 'protection', 'armed', 'king', 'step', 'obtain', 'transfer', 'ride', 'satellite', 'determine', 'committee', 'congress', 'pgp', 'assuming', 'recognize', 'remove', 'america', 'nearly', 'green', 'fight', 'advance', 'agents', 'processing', 'install', 'effort', 'worse', 'despite', 'compound', 'nsa', 'disks', 'effects', 'possibility', 'telling', 'applied', 'concept', 'born', 'risk', 'typical', 'failed', 'meg', 'fear', 'turkey', 'countries', 'scott', 'responsibility', 'prices', 'block', 'firearms', 'spent', 'dangerous', 'passed', 'straight', 'postscript', 'hole', 'orbit', 'coverage', 'fair', 'false', 'defined', 'physics', 'joseph', 'daily', 'larger', 'becomes', 'role', 'begin', 'billion', 'alone', 'mit', 'absolute', 'innocent', 'carnegie', 'potential', 'activities', 'review', 'reach', 'gotten', 'cancer', 'eternal', 'context', 'date', 'advantage', 'onto', 'flight', 'fonts', 'msg', 'catholic', 'seriously', 'slow', 'vnews', 'changing', 'piece', 'surface', 'woman', 'somewhere', 'ready', 'toward', 'southern', 'answers', 'lose', 'mary', 'shipping', 'stick', 'pointed', 'versions', 'defend', 'jack', 'forces', 'upgrade', 'battery', 'advanced', 'motorola', 'professor', 'ford', 'mhz', 'operating', 'safe', 'month', 'minutes', 'watching', 'refer', 'random', 'environment', 'forward', 'australia', 'german', 'causes', 'medicine', 'option', 'followed', 'associated', 'doctor', 'central', 'exact', 'tells', 'minor', 'lived', 'weight', 'features', 'waiting', 'believed', 'sites', 'somewhat', 'dan', 'sciences', 'spirit', 'everybody', 'convention', 'bell', 'bios', 'compare', 'creation', 'equal', 'biblical', 'alternative', 'cup', 'speaking', 'expected', 'pain', 'electronics', 'lunar', 'eventually', 'personally', 'traffic', 'specifically', 'carried', 'purchase', 'resource', 'document', 'errors', 'replace', 'offers', 'clutch', 'began', 'depends', 'waste', 'standards', 'kids', 'compatible', 'load', 'ran', 'showing', 'pressure', 'economic', 'thread', 'agency', 'arabs', 'suggestions', 'definitely', 'accepted', 'worst', 'leaders', 'austin', 'immediately', 'netcom', 'fix', 'isa', 'beliefs', 'older', 'options', 'criminal', 'heat', 'hall', 'felt', 'initial', 'condition', 'easier', 'flame', 'valid', 'missing', 'sign', 'proposed', 'impossible', 'remain', 'islam', 'replaced', 'macintosh', 'attention', 'concerned', 'messages', 'disagree', 'hardly', 'missed', 'active', 'capable', 'operation', 'taxes', 'jeff', 'huge', 'park', 'davidians', 'individuals', 'circuit', 'training', 'archive', 'heavy', 'truly', 'slightly', 'audio', 'colors', 'lee', 'connection', 'solid', 'intelligence', 'prior', 'moved', 'shots', 'listen', 'nazi', 'recommend', 'suggested', 'ron', 'owners', 'resolution', 'vehicle', 'xterm', 'released', 'constitution', 'ati', 'attacks', 'develop', 'extremely', 'bet', 'riding', 'roads', 'brain', 'quoted', 'larry', 'telephone', 'expensive', 'agencies', 'guide', 'ignore', 'urbana', 'math', 'espn', 'description', 'percentage', 'fighting', 'cult', 'behavior', 'pin', 'degree', 'addition', 'english', 'license', 'playoff', 'sending', 'opposed', 'dog', 'ancient', 'positive', 'worry', 'blame', 'named', 'tech', 'ensure', 'virtual', 'afraid', 'warrant', 'forced', 'reduce', 'frame', 'june', 'tool', 'functions', 'grant', 'somehow', 'eat', 'francisco', 'strange', 'damn', 'debate', 'connected', 'criminals', 'measure', 'bodies', 'leading', 'claiming', 'stanford', 'est', 'distribution', 'count', 'writes', 'morning', 'rates', 'objects', 'finding', 'surely', 'status', 'flames', 'raise', 'capital', 'copies', 'attitude', 'troops', 'pat', 'attorney', 'concerning', 'character', 'town', 'connect', 'regard', 'property', 'sgi', 'drawing', 'nec', 'jobs', 'encrypted', 'generation', 'table', 'kinds', 'wings', 'tear', 'master', 'select', 'moment', 'afford', 'feeling', 'presented', 'doug', 'minority', 'paying', 'rich', 'michigan', 'art', 'models', 'starts', 'expansion', 'spacecraft', 'leafs', 'evolution', 'star', 'leads', 'parallel', 'primary', 'complex', 'automatic', 'palestinian', 'annual', 'academic', 'cross', 'turns', 'ball', 'relevant', 'placed', 'cdt', 'round', 'tim', 'hearing', 'fuel', 'client', 'monitors', 'quickly', 'essentially', 'providing', 'trial', 'motherboard', 'keith', 'etc', 'william', 'magazine', 'conclusion', 'ken', 'canadian', 'normally', 'rom', 'laser', 'default', 'fun', 'ahead', 'legitimate', 'boards', 'braves', 'santa', 'deaths', 'stopped', 'management', 'stats', 'feature', 'gary', 'winning', 'holding', 'update', 'sitting', 'diamond', 'honda', 'parents', 'male', 'pro', 'relationship', 'plain', 'learned', 'background', 'pull', 'fixed', 'pages', 'carrying', 'officers', 'quadra', 'frequently', 'rob', 'hundred', 'self', 'examples', 'raised', 'strongly', 'relatively', 'wire', 'originally', 'purdue', 'computers', 'florida', 'length', 'shoot', 'holocaust', 'hst', 'listed', 'surprised', 'proposal', 'smaller', 'visual', 'centris', 'atheism', 'benefit', 'met', 'humans', 'postings', 'heaven', 'clean', 'discovered', 'industry', 'aids', 'thinks', 'methods', 'rid', 'export', 'rochester', 'atheist', 'contain', 'cold', 'covered', 'auto', 'louis', 'morris', 'limit', 'readers', 'rocket', 'sets', 'host', 'differences', 'anywhere', 'standing', 'distributed', 'stanley', 'simms', 'levels', 'reaction', 'announced', 'detroit', 'doctors', 'brother', 'passes', 'powerful', 'seven', 'letters', 'decent', 'depending', 'assault', 'sweden', 'nation', 'perfectly', 'penalty', 'brand', 'accurate', 'summary', 'lets', 'weapon', 'compression', 'cheaper', 'attempts', 'usual', 'activity', 'edge', 'adl', 'logical', 'throughout', 'students', 'minnesota', 'alan', 'secretary', 'fundamental', 'discussions', 'biggest', 'extended', 'sick', 'sports', 'vitamin', 'store', 'sales', 'link', 'temperature', 'denver', 'owner', 'offered', 'properly', 'track', 'wiretap', 'bank', 'join', 'excuse', 'justify', 'spread', 'ordered', 'deleted', 'regardless', 'opportunity', 'sit', 'ice', 'buffalo', 'rear', 'mathew', 'music', 'persons', 'maintain', 'summer', 'variety', 'broken', 'documentation', 'registration', 'feet', 'unable', 'produced', 'discussed', 'hurt', 'shell', 'lists', 'gain', 'allowing', 'dealing', 'stephen', 'kevin', 'planning', 'notes', 'highest', 'sample', 'utility', 'club', 'rangers', 'push', 'meeting', 'sufficient', 'jose', 'walk', 'twice', 'sony', 'pictures', 'plans', 'burned', 'pixel', 'ethernet', 'describe', 'assumption', 'caught', 'fault', 'terminal', 'speech', 'bush', 'boulder', 'threat', 'openwindows', 'tank', 'motorcycle', 'jets', 'goals', 'finland', 'race', 'ottoman', 'astronomy', 'visible', 'believes', 'hospital', 'lock', 'familiar', 'enter', 'pdt', 'governments', 'bruce', 'backup', 'association', 'convince', 'saved', 'indiana', 'burning', 'talked', 'int', 'eastern', 'weak', 'fail', 'miller', 'welcome', 'bother', 'containing', 'match', 'seattle', 'dark', 'brown', 'fired', 'increased', 'purchased', 'generate', 'bottom', 'violence', 'organized', 'angeles', 'dec', 'session', 'represents', 'thousand', 'closer', 'appeared', 'jet', 'damage', 'worship', 'shared', 'items', 'glad', 'violent', 'officials', 'turbo', 'blues', 'leaving', 'demand', 'century', 'religions', 'referring', 'announcement', 'eyes', 'loaded', 'salt', 'score', 'setup', 'cache', 'foundation', 'spending', 'indicate', 'structure', 'chemistry', 'happening', 'scripture', 'dept', 'planet', 'pray', 'plenty', 'responses', 'libertarian', 'deny', 'eye', 'established', 'japanese', 'lake', 'professional', 'propulsion', 'primarily', 'referred', 'plug', 'shooting', 'sunday', 'noted', 'employer', 'remains', 'papers', 'rock', 'picked', 'cops', 'amiga', 'button', 'montreal', 'prepared', 'talks', 'interpretation', 'hundreds', 'engineer', 'path', 'parties', 'proceeded', 'lay', 'defensive', 'believing', 'imply', 'quotes', 'success', 'adam', 'deep', 'improve', 'conflict', 'charles', 'sky', 'vesa', 'azerbaijan', 'supposedly', 'equivalent', 'explanation', 'represent', 'managed', 'tested', 'israelis', 'careful', 'verse', 'topic', 'guilty', 'teach', 'channel', 'perform', 'maximum', 'budget', 'jason', 'cal', 'stories', 'aspects', 'whenever', 'factor', 'movement', 'translation', 'holes', 'checked', 'installation', 'bay', 'martin', 'unto', 'proven', 'gamma', 'challenge', 'numerous', 'intel', 'credit', 'burns', 'villages', 'unfortunately', 'convinced', 'presence', 'consistent', 'reliable', 'draft', 'chemical', 'bos', 'tanks', 'amateur', 'clinical', 'reflect', 'driven', 'ann', 'seconds', 'seek', 'millions', 'roger', 'besides', 'tests', 'diego', 'nations', 'conversion', 'berkeley', 'pts', 'journal', 'helped', 'sides', 'council', 'eight', 'doctrine', 'applies', 'northern', 'cambridge', 'boot', 'palestinians', 'followers', 'equally', 'thoughts', 'reached', 'shift', 'authorities', 'que', 'imaging', 'wall', 'columbia', 'organizations', 'notion', 'keeps', 'adding', 'collection', 'russia', 'arm', 'style', 'supporting', 'describes', 'taught', 'enjoy', 'treat', 'agreement', 'chapter', 'swap', 'career', 'probe', 'technologies', 'packages', 'sox', 'serdar', 'explained', 'lie', 'wave', 'repeat', 'cryptography', 'agent', 'lies', 'global', 'database', 'shareware', 'operations', 'editor', 'detector', 'widely', 'becoming', 'favor', 'warning', 'documents', 'bytes', 'feds', 'hitting', 'village', 'latter', 'desire', 'funding', 'concern', 'focus', 'fellow', 'lewis', 'failure', 'patrick', 'conditions', 'resulting', 'yesterday', 'planetary', 'pitching', 'previously', 'replies', 'helps', 'cities', 'served', 'distance', 'senate', 'gonna', 'karl', 'shut', 'chosen', 'daniel', 'pens', 'detailed', 'hence', 'director', 'continued', 'scheme', 'homosexuals', 'returned', 'split', 'automatically', 'paint', 'july', 'pit', 'argic', 'plastic', 'gordon', 'assumed', 'impact', 'universal', 'fill', 'turning', 'cellular', 'core', 'content', 'bigger', 'iii', 'commands', 'mormon', 'unlike', 'figures', 'occupied', 'colour', 'puck', 'atlanta', 'det', 'england', 'aid', 'wear', 'albert', 'wearing', 'affect', 'stands', 'decisions', 'tony', 'checking', 'overall', 'leader', 'grand', 'obtained', 'significantly', 'printing', 'configuration', 'formats', 'location', 'candida', 'scientists', 'marriage', 'solve', 'occur', 'heads', 'suffering', 'memorial', 'testing', 'mars', 'duo', 'opening', 'chi', 'addresses', 'prime', 'destroy', 'visit', 'effectively', 'situations', 'diet', 'printed', 'motor', 'stored', 'tor', 'desktop', 'scored', 'bruins', 'acceptable', 'kings', 'newsletter', 'dollars', 'mechanism', 'associate', 'wild', 'interactive', 'culture', 'eisa', 'char', 'lying', 'burn', 'stuck', 'mistake', 'henry', 'canon', 'december', 'creating', 'observations', 'direction', 'predictions', 'educational', 'storage', 'voltage', 'observed', 'determined', 'curious', 'flyers', 'efforts', 'favorite', 'degrees', 'virtually', 'bosnian', 'map', 'screw', 'newsgroups', 'ultra', 'portable', 'menu', 'victims', 'jon', 'chief', 'requirements', 'treated', 'requests', 'vancouver', 'senior', 'ports', 'craig', 'officer', 'lebanese', 'offensive', 'indicates', 'thrown', 'impression', 'hoping', 'vision', 'gaza', 'svga', 'cursor', 'echo', 'lights', 'jump', 'cultural', 'learning', 'accuracy', 'string', 'relations', 'sad', 'serbs', 'tie', 'transmission', 'destroyed', 'stereo', 'greg', 'fund', 'kingdom', 'passage', 'involve', 'matters', 'funny', 'alive', 'intelligent', 'stolen', 'theories', 'minute', 'ought', 'critical', 'handling', 'eating', 'rick', 'massachusetts', 'divine', 'spiritual', 'punishment', 'tradition', 'orthodox', 'centre', 'elements', 'occurs', 'stars', 'hour', 'phil', 'chain', 'cubs', 'cnn', 'bikes', 'immediate', 'greatest', 'ethnic', 'experiences', 'domain', 'greeks', 'spot', 'max', 'republic', 'selected', 'luck', 'clients', 'baltimore', 'introduction', 'passing', 'chose', 'harm', 'commit', 'apart', 'silicon', 'target', 'refuse', 'broke', 'connector', 'accounts', 'unlikely', 'extreme', 'controlled', 'implementation', 'statistics', 'finish', 'replacement', 'boxes', 'frequency', 'mirror', 'stream', 'brake', 'adapter', 'exchange', 'abuse', 'bureau', 'opened', 'touch', 'banks', 'guarantee', 'toolkit', 'facility', 'shop', 'reno', 'pitcher', 'batting', 'positions', 'signed', 'traditional', 'removed', 'funds', 'portion', 'lawrence', 'dont', 'modified', 'french', 'artificial', 'wood', 'policies', 'flat', 'ontario', 'fly', 'instruments', 'deserve', 'philadelphia', 'azeri', 'newer', 'mainly', 'practical', 'refused', 'famous', 'understood', 'instructions', 'till', 'liberal', 'production', 'stock', 'marketing', 'super', 'xview', 'chances', 'teaching', 'terrorism', 'electric', 'pulled', 'supreme', 'roman', 'quantum', 'patient', 'forms', 'kent', 'relative', 'superior', 'exercise', 'harvard', 'adobe', 'catch', 'appressian', 'neutral', 'purposes', 'reject', 'sorts', 'letting', 'flying', 'literature', 'reasoning', 'rational', 'constant', 'attacked', 'aside', 'movie', 'inc', 'suffered', 'region', 'routines', 'binary', 'widgets', 'units', 'soul', 'identify', 'processor', 'precisely', 'cool', 'nazis', 'promise', 'essential', 'august', 'orbital', 'civilians', 'owned', 'iowa', 'tough', 'entries', 'toyota', 'gods', 'agreed', 'assertion', 'apparent', 'foot', 'causing', 'establish', 'suffer', 'fourth', 'jew', 'iran', 'reduced', 'blow', 'planned', 'hits', 'ted', 'ticket', 'amp', 'survivors', 'melkonian', 'performed', 'france', 'rely', 'answered', 'principle', 'attempting', 'miss', 'testament', 'regional', 'repeated', 'principles', 'belong', 'entered', 'animals', 'judgement', 'item', 'civilian', 'threw', 'recommended', 'tiff', 'kit', 'zoology', 'militia', 'successful', 'burden', 'falls', 'stratus', 'developing', 'camera', 'resistance', 'extension', 'settings', 'convex', 'helmet', 'winnipeg', 'arguing', 'february', 'drink', 'negative', 'intent', 'continuing', 'assembly', 'pure', 'jerusalem', 'located', 'sells', 'accelerator', 'greece', 'saturn', 'scientist', 'drawn', 'hitler', 'citizen', 'zero', 'patch', 'root', 'remaining', 'experts', 'border', 'libraries', 'mov', 'fifth', 'copyright', 'andy', 'xlib', 'sector', 'scoring', 'importance', 'suddenly', 'survey', 'verses', 'intend', 'holds', 'sleep', 'carefully', 'permanent', 'ames', 'surrender', 'spoke', 'amounts', 'converted', 'staff', 'panel', 'nubus', 'fields', 'dropped', 'suggestion', 'lady', 'phones', 'bug', 'rose', 'houston', 'puts', 'violation', 'stealth', 'sequence', 'satan', 'sharks', 'acid', 'comparison', 'experiment', 'reasonably', 'suggests', 'slave', 'plays', 'mechanical', 'receiving', 'hello', 'servers', 'johnson', 'stone', 'index', 'vlb', 'playoffs', 'records', 'schools', 'duty', 'removing', 'strike', 'revelation', 'honest', 'depend', 'converting', 'breaking', 'continues', 'propaganda', 'utah', 'devils', 'buffer', 'ship', 'register', 'purely', 'follows', 'morals', 'discussing', 'factors', 'spring', 'ignorant', 'pushed', 'rise', 'battle', 'captain', 'suite', 'displays', 'marc', 'hiv', 'crimes', 'comprehensive', 'gospel', 'plane', 'materials', 'formed', 'spare', 'attached', 'wayne', 'janet', 'politics', 'wins', 'ozone', 'jays', 'penguins', 'justification', 'experimental', 'wonderful', 'motion', 'contrary', 'stage', 'leaves', 'opposite', 'constitutional', 'wheel', 'amazing', 'island', 'shape', 'animation', 'app', 'nine', 'vertical', 'unknown', 'edition', 'churches', 'tired', 'implement', 'sentence', 'forgot', 'issued', 'components', 'losing', 'compile', 'telescope', 'jumper', 'traded', 'coach', 'odd', 'temple', 'metal', 'pasadena', 'generated', 'admin', 'russell', 'subjective', 'democratic', 'gravity', 'bosnia', 'compiled', 'mutual', 'drag', 'finished', 'log', 'danger', 'investigation', 'baby', 'wind', 'viewer', 'utilities', 'lebanon', 'implies', 'minimum', 'mathematical', 'protected', 'bomb', 'reverse', 'manage', 'fell', 'bases', 'byte', 'crowd', 'sci', 'seat', 'grace', 'buf', 'minister', 'stl', 'silly', 'empty', 'ends', 'updated', 'idle', 'native', 'cycle', 'subscribe', 'interests', 'adams', 'solutions', 'gulf', 'murray', 'lucky', 'controls', 'venus', 'slower', 'caps', 'nra', 'azerbaijani', 'campaign', 'vast', 'luke', 'classic', 'unusual', 'ordinary', 'whereas', 'confused', 'detect', 'thou', 'element', 'scale', 'irvine', 'ended', 'allen', 'feels', 'specify', 'band', 'variable', 'manufacturers', 'harder', 'manner', 'consequences', 'typically', 'contents', 'procedure', 'terrorist', 'filled', 'throwing', 'unique', 'pitch', 'flow', 'zealand', 'abc', 'wiring', 'nick', 'pacific', 'usage', 'explicitly', 'pointing', 'bound', 'francis', 'passages', 'pair', 'dean', 'charges', 'approximately', 'romans', 'schedule', 'bitmap', 'labs', 'specs', 'mask', 'ring', 'handgun', 'nyi', 'hidden', 'listening', 'authors', 'suitable', 'commonly', 'hide', 'severe', 'massive', 'recognized', 'smart', 'realized', 'brief', 'directed', 'identical', 'feed', 'combination', 'mount', 'neighbor', 'royal', 'routine', 'carolina', 'mag', 'protocol', 'yeast', 'chronic', 'dividian', 'conclude', 'mental', 'minds', 'strictly', 'phrase', 'wars', 'arizona', 'rape', 'finger', 'ban', 'newspaper', 'largely', 'predict', 'anyway', 'reads', 'alleged', 'japan', 'scheduled', 'january', 'naval', 'nuntius', 'douglas', 'roy', 'batteries', 'dealers', 'rider', 'hopkins', 'brings', 'union', 'watched', 'boy', 'dear', 'modes', 'hebrew', 'genesis', 'selection', 'atmosphere', 'approved', 'concerns', 'clark', 'clayton', 'concepts', 'techniques', 'massacre', 'informed', 'measures', 'cat', 'launched', 'skin', 'atomic', 'encourage', 'conversation', 'tends', 'ignorance', 'entitled', 'allan', 'rushdie', 'correctly', 'contained', 'limits', 'scores', 'permission', 'resurrection', 'polygon', 'glory', 'bullet', 'sea', 'fat', 'circumstances', 'pop', 'wisconsin', 'route', 'ryan', 'animal', 'helpful', 'revealed', 'affected', 'thru', 'orders', 'awful', 'neighbors', 'smoke', 'strip', 'hopefully', 'demo', 'broadcast', 'vram', 'contest', 'mon', 'engines', 'giants', 'reform', 'bobby', 'fits', 'contract', 'symptoms', 'freely', 'seeking', 'refers', 'perry', 'granted', 'stood', 'liked', 'capability', 'suicide', 'installing', 'pieces', 'tied', 'produces', 'zone', 'hotel', 'powerbook', 'characters', 'dick', 'archives', 'friendly', 'membership', 'dictionary', 'forcing', 'suit', 'extent', 'fool', 'empire', 'compromise', 'worried', 'networks', 'fee', 'tapes', 'floor', 'converter', 'dale', 'achieve', 'roughly', 'environmental', 'blind', 'pope', 'nyc', 'hill', 'weather', 'speeds', 'carter', 'rsa', 'tires', 'secular', 'prayer', 'whoever', 'loving', 'demonstrated', 'corner', 'describing', 'grounds', 'pool', 'presumably', 'quiet', 'viewing', 'pattern', 'vice', 'polytechnic', 'projects', 'analog', 'norton', 'ottawa', 'apps', 'tries', 'leadership', 'bar', 'industrial', 'married', 'assert', 'assistance', 'economy', 'brad', 'campus', 'graphic', 'randy', 'calgary', 'irq', 'experienced', 'involves', 'proud', 'simon', 'teachings', 'powers', 'task', 'zionist', 'slaughter', 'satellites', 'upper', 'figured', 'jersey', 'occupation', 'intellectual', 'derived', 'implemented', 'probability', 'witness', 'dozen', 'horrible', 'shit', 'terrible', 'incident', 'fpu', 'corporate', 'sport', 'expert', 'attacking', 'laboratories', 'protecting', 'introduced', 'mouth', 'silver', 'trip', 'switzerland', 'remind', 'compressed', 'planes', 'handled', 'dma', 'conversations', 'repair', 'expose', 'sabres', 'square', 'increasing', 'destruction', 'closely', 'improved', 'conduct', 'non', 'accident', 'writer', 'beating', 'quebec', 'strategy', 'bugs', 'scan', 'deskjet', 'davidian', 'proved', 'receiver', 'laugh', 'beautiful', 'angels', 'defending', 'observation', 'votes', 'october', 'digest', 'versus', 'switching', 'conservative', 'jones', 'header', 'steven', 'tickets', 'adaptec', 'manufacturer', 'county', 'gold', 'appeal', 'ridiculous', 'surprise', 'alot', 'finds', 'indication', 'representatives', 'dogs', 'dollar', 'kid', 'atoms', 'domestic', 'detail', 'wise', 'heavily', 'improvement', 'executive', 'jonathan', 'custom', 'oregon', 'libertarians', 'cramer', 'hess', 'hicnet', 'serves', 'objectively', 'forum', 'existed', 'loop', 'exception', 'infection', 'gear', 'quit', 'appearance', 'daughter', 'apartment', 'museum', 'crash', 'barry', 'technique', 'min', 'joint', 'instruction', 'iisi', 'vehicles', 'gant', 'mar', 'philosophy', 'sake', 'rarely', 'honor', 'theism', 'dying', 'birth', 'river', 'regards', 'tel', 'attempted', 'complicated', 'signs', 'salvation', 'milwaukee', 'grow', 'parent', 'norway', 'classified', 'edit', 'saving', 'construction', 'algorithms', 'conventional', 'fewer', 'sensitivity', 'com', 'missions', 'cornell', 'income', 'mets', 'goalie', 'ripem', 'origin', 'murdered', 'liberty', 'firing', 'denied', 'firm', 'efficient', 'insist', 'insert', 'charged', 'dream', 'crack', 'examine', 'valuable', 'combined', 'chinese', 'grab', 'extensive', 'friday', 'modify', 'dry', 'burst', 'matt', 'array', 'registered', 'athens', 'tower', 'drove', 'largest', 'definitions', 'legally', 'influence', 'properties', 'regarded', 'slip', 'interpret', 'wisdom', 'helping', 'guard', 'consists', 'aspect', 'progress', 'brothers', 'balance', 'infrastructure', 'kidney', 'rendering', 'specified', 'bulletin', 'macs', 'pins', 'november', 'thats', 'switches', 'bullock', 'ultimate', 'listing', 'opposition', 'guaranteed', 'dispute', 'temporary', 'nose', 'surrounding', 'speaker', 'incredibly', 'submit', 'acting', 'engaged', 'mario', 'constantly', 'knocked', 'wires', 'hook', 'pds', 'alexander', 'delaware', 'cooling', 'passenger', 'mustang', 'palestine', 'nntp', 'stating', 'ascii', 'testimony', 'comparable', 'regularly', 'tiny', 'brett', 'investment', 'timing', 'linux', 'centers', 'fort', 'hitter', 'islanders', 'promote', 'contribute', 'cited', 'classes', 'operate', 'consideration', 'concrete', 'blah', 'molecular', 'participate', 'ignoring', 'mere', 'rush', 'legislation', 'mix', 'kinda', 'filter', 'cutting', 'labor', 'mellon', 'bright', 'kansas', 'depth', 'forth', 'paranoid', 'pack', 'davis', 'login', 'signals', 'sparc', 'spencer', 'sunos', 'hawks', 'beam', 'writings', 'searching', 'witnesses', 'beings', 'fails', 'dare', 'capacity', 'vms', 'codes', 'stable', 'remarks', 'indicated', 'offense', 'graduate', 'raw', 'component', 'avenue', 'edmonton', 'bonds', 'comet', 'beta', 'platform', 'sections', 'mile', 'simm', 'arrest', 'texts', 'saudi', 'integrated', 'television', 'workstations', 'complain', 'comparing', 'representative', 'era', 'strength', 'trick', 'gotta', 'loose', 'practices', 'complaints', 'reader', 'photo', 'growing', 'walking', 'inner', 'sheet', 'visualization', 'stewart', 'packet', 'advertising', 'linked', 'isbn', 'assumes', 'conducted', 'cells', 'involving', 'elected', 'responding', 'conclusions', 'impressed', 'verify', 'acceptance', 'husband', 'hang', 'substantial', 'ministry', 'kuwait', 'steel', 'saturday', 'enhanced', 'static', 'megs', 'bat', 'selanne', 'cipher', 'scorer', 'ahl', 'arbitrary', 'entering', 'soft', 'fred', 'cell', 'thermal', 'mathematics', 'sees', 'rare', 'publicly', 'modems', 'busy', 'ratio', 'arrogance', 'bringing', 'film', 'jimmy', 'bullets', 'hung', 'tap', 'thanx', 'sam', 'intergraph', 'opposing', 'rogers', 'raid', 'anderson', 'ama', 'phillies', 'forever', 'steps', 'penn', 'racial', 'upset', 'einstein', 'telecommunications', 'delete', 'jerry', 'growth', 'arrived', 'neat', 'edward', 'cuts', 'evelyn', 'relativism', 'ira', 'relating', 'rawlins', 'ruled', 'minimal', 'tube', 'mounted', 'enable', 'moves', 'cooperation', 'pete', 'manuals', 'photography', 'permit', 'rejected', 'dual', 'creates', 'disclaimers', 'workers', 'crap', 'emotional', 'walked', 'peaceful', 'pulling', 'null', 'drinking', 'dumb', 'linear', 'senator', 'rgb', 'exit', 'girls', 'warranty', 'restrictions', 'maxtor', 'oracle', 'yamaha', 'broad', 'ideal', 'cloud', 'evans', 'implied', 'dreams', 'demonstrate', 'loved', 'likes', 'crazy', 'territory', 'carl', 'officially', 'trained', 'risc', 'travel', 'ncr', 'maintained', 'inhabitants', 'azeris', 'solely', 'formal', 'families', 'occurred', 'successfully', 'hey', 'blocks', 'cite', 'eliminate', 'picking', 'asks', 'democracy', 'procedures', 'instrument', 'alpha', 'shadow', 'enemy', 'magnetic', 'sat', 'election', 'probes', 'horizontal', 'xdm', 'nyr', 'philosophical', 'repeatedly', 'hatred', 'financial', 'benefits', 'voting', 'workstation', 'girl', 'recorded', 'sharp', 'observe', 'invasion', 'iraqi', 'disciples', 'promised', 'researchers', 'screwed', 'transmitted', 'inet', 'binaries', 'forsale', 'steering', 'cryptographic', 'monthly', 'johns', 'responded', 'prevented', 'crystal', 'accused', 'slight', 'discrimination', 'producing', 'confirmed', 'tree', 'exploration', 'inch', 'interview', 'optional', 'void', 'plate', 'christopher', 'boeing', 'sean', 'atmospheric', 'candidates', 'pushing', 'icon', 'neil', 'slot', 'tire', 'truck', 'mercury', 'crew', 'sumgait', 'admitted', 'nowhere', 'harmful', 'nasty', 'candidate', 'clue', 'facilities', 'sensitive', 'struggle', 'relief', 'gathered', 'revolution', 'capture', 'initiative', 'chuck', 'phase', 'rent', 'pixels', 'kenneth', 'quicktime', 'startup', 'mcgill', 'height', 'dialog', 'jackson', 'pitchers', 'firearm', 'oilers', 'baku', 'dedicated', 'biased', 'wondered', 'incorporated', 'sponsored', 'ignored', 'saves', 'distinction', 'condemn', 'russians', 'publication', 'baptism', 'walker', 'dynamic', 'bombing', 'cop', 'psalm', 'collect', 'dallas', 'capabilities', 'speakers', 'backing', 'balls', 'europeans', 'surgery', 'shameful', 'exhaust', 'zionism', 'yassin', 'fish', 'founded', 'carries', 'behaviour', 'choices', 'golden', 'maintaining', 'mileage', 'inherent', 'posters', 'cares', 'virus', 'stops', 'expand', 'tektronix', 'blown', 'angry', 'liberties', 'render', 'cash', 'immoral', 'iranian', 'steal', 'iron', 'backed', 'logo', 'theoretical', 'flaming', 'adds', 'blessed', 'incredible', 'spectrum', 'warm', 'doors', 'williams', 'telnet', 'raster', 'scope', 'managers', 'factory', 'theists', 'readily', 'psychology', 'targets', 'stronger', 'prophecy', 'grass', 'commitment', 'approaches', 'ksand', 'hatching', 'conlon', 'hair', 'arts', 'sacrifice', 'taste', 'lift', 'availability', 'recommendations', 'jpl', 'maple', 'highway', 'novell', 'reds', 'cleveland', 'timer', 'gang', 'deserves', 'magic', 'emergency', 'accepting', 'infinite', 'consumer', 'okay', 'biology', 'gift', 'strikes', 'borders', 'biological', 'celebrate', 'conspiracy', 'aimed', 'suggesting', 'mapping', 'covers', 'addressing', 'centuries', 'script', 'badly', 'vary', 'sabbath', 'evening', 'plant', 'compiler', 'wing', 'manipulation', 'sutherland', 'delivery', 'topics', 'gcc', 'microsystems', 'gerard', 'struck', 'tempest', 'govt', 'physician', 'african', 'substance', 'declared', 'wishes', 'interrupt', 'humanity', 'pst', 'healthy', 'subsequent', 'exposed', 'moslem', 'stat', 'catholics', 'expression', 'jan', 'indians', 'corresponding', 'cleaning', 'licensed', 'boys', 'snow', 'comics', 'antenna', 'mob', 'phi', 'sternlight', 'bosnians', 'deals', 'prophet', 'psychological', 'propose', 'feelings', 'adult', 'justified', 'fallacy', 'virgin', 'customer', 'instance', 'ham', 'studied', 'speaks', 'requiring', 'worthy', 'knock', 'deliberately', 'preventing', 'thy', 'hypothesis', 'prince', 'iraq', 'injury', 'achieved', 'displayed', 'customers', 'lane', 'identified', 'completed', 'patches', 'bandwidth', 'cincinnati', 'inches', 'parking', 'chastity', 'catalog', 'serving', 'perspective', 'rough', 'exclusively', 'frequent', 'monday', 'useless', 'ultimately', 'murders', 'bucks', 'dirty', 'marked', 'consulting', 'geometry', 'readme', 'module', 'atari', 'authorized', 'gerald', 'rocks', 'shame', 'dust', 'communities', 'violations', 'karabakh', 'answering', 'absence', 'september', 'wanting', 'interpreted', 'judged', 'sole', 'victim', 'circuits', 'mistakes', 'mess', 'voted', 'funded', 'preserve', 'talent', 'meaningless', 'argued', 'typing', 'judging', 'sacred', 'relation', 'wake', 'feb', 'complaining', 'increases', 'yale', 'competition', 'howard', 'prohibit', 'hints', 'circle', 'hal', 'flash', 'cmos', 'detectors', 'automotive', 'lds', 'mph', 'concealed', 'standings', 'kratz', 'kurds', 'obey', 'criticism', 'confusion', 'documented', 'jefferson', 'cast', 'messiah', 'requested', 'mad', 'covenant', 'tone', 'consensus', 'penalties', 'siggraph', 'comp', 'vax', 'supplied', 'gui', 'oakland', 'alcohol', 'personnel', 'yankees', 'widespread', 'analogy', 'blew', 'quoting', 'train', 'attributed', 'scholars', 'fancy', 'compelled', 'category', 'kick', 'houses', 'spec', 'stones', 'scriptures', 'destroying', 'rubber', 'beer', 'checks', 'performing', 'terrorists', 'plot', 'density', 'ben', 'stations', 'differential', 'allocation', 'elizabeth', 'alaska', 'jumpers', 'lciii', 'farm', 'pirates', 'fiction', 'begins', 'everywhere', 'restrict', 'prison', 'charlie', 'nearby', 'deeply', 'confusing', 'bothered', 'oriented', 'explains', 'district', 'difficulty', 'aka', 'sudden', 'paragraph', 'winter', 'prayers', 'waited', 'manufacturing', 'socket', 'seagate', 'suck', 'muscle', 'injuries', 'tobacco', 'canucks', 'handguns', 'pink', 'returns', 'covering', 'alternatives', 'pretend', 'convincing', 'uniform', 'stayed', 'prediction', 'abstract', 'offering', 'spoken', 'reveal', 'courts', 'coast', 'tommy', 'angle', 'africa', 'sometime', 'roll', 'louisiana', 'criteria', 'jay', 'aircraft', 'mystery', 'junk', 'bag', 'colormap', 'sins', 'printers', 'maintenance', 'pennsylvania', 'telecom', 'garage', 'cherry', 'samuel', 'seats', 'valve', 'armored', 'clemens', 'foods', 'fuhr', 'similarly', 'distinguish', 'risks', 'inherently', 'statistical', 'presents', 'formation', 'pointer', 'narrow', 'female', 'preferred', 'politicians', 'writers', 'cst', 'loves', 'harris', 'bias', 'todd', 'switched', 'injured', 'pointers', 'micro', 'vendors', 'astronomical', 'pays', 'clone', 'mitre', 'forwarded', 'titan', 'sho', 'alomar', 'lindros', 'krillean', 'ink', 'honestly', 'resulted', 'graham', 'jury', 'addressed', 'oppose', 'arrogant', 'followups', 'belongs', 'apologize', 'princeton', 'kicked', 'tourist', 'priest', 'lawyer', 'fallen', 'fathers', 'devil', 'frames', 'fresh', 'arithmetic', 'seperate', 'hospitals', 'radius', 'pixmap', 'import', 'upgraded', 'orbiter', 'programmer', 'ads', 'harry', 'servicing', 'fled', 'fascist', 'republicans', 'edm', 'breast', 'remained', 'amongst', 'sooner', 'literally', 'dakota', 'trace', 'defines', 'enforce', 'grey', 'irrational', 'limiting', 'teacher', 'founding', 'radiation', 'lawyers', 'demands', 'adults', 'heck', 'grew', 'award', 'choosing', 'mighty', 'jupiter', 'ear', 'closest', 'generic', 'wilson', 'appreciated', 'wright', 'tomorrow', 'graphical', 'scene', 'transmit', 'connections', 'tracking', 'tight', 'reset', 'mitchell', 'bps', 'therapy', 'nissan', 'ott', 'territories', 'counter', 'extend', 'allergic', 'impose', 'navy', 'diseases', 'grade', 'survive', 'strict', 'flag', 'comfortable', 'exposure', 'interpretations', 'explaining', 'maryland', 'lincoln', 'forgotten', 'glass', 'declare', 'confuse', 'discover', 'timothy', 'drops', 'atlantic', 'mexico', 'portal', 'serbian', 'fastest', 'confirm', 'sharing', 'password', 'cape', 'participating', 'thursday', 'considerably', 'pressing', 'derek', 'bursts', 'swedish', 'shaft', 'guidelines', 'gilmour', 'deficit', 'publish', 'der', 'processes', 'fuck', 'execute', 'youth', 'contradict', 'babies', 'translated', 'secondary', 'threatened', 'dependent', 'winner', 'germans', 'requirement', 'bloody', 'lowest', 'necessity', 'interference', 'observer', 'utterly', 'consistently', 'recognition', 'massacres', 'hanging', 'physically', 'considerable', 'waterloo', 'satisfied', 'employed', 'saint', 'oklahoma', 'cray', 'employees', 'purchasing', 'signature', 'correction', 'annoying', 'ansi', 'settle', 'weird', 'batch', 'inexpensive', 'toshiba', 'pioneer', 'socialist', 'london', 'oxford', 'reducing', 'walls', 'expecting', 'surveillance', 'elsewhere', 'outer', 'beleive', 'teaches', 'reporting', 'disclaimer', 'symbol', 'acknowledge', 'bearing', 'possession', 'cook', 'beast', 'predicted', 'buildings', 'occasionally', 'wounded', 'courses', 'taylor', 'chapel', 'italy', 'phigs', 'hacker', 'scanner', 'powered', 'trigger', 'dodgers', 'diagnosed', 'mainstream', 'emphasis', 'fate', 'miracle', 'dogma', 'contradiction', 'conscious', 'kills', 'speculation', 'stan', 'utter', 'communist', 'impressive', 'commandments', 'owns', 'encouraged', 'concentrate', 'undefined', 'contributed', 'failing', 'tens', 'sue', 'faced', 'estimated', 'landed', 'solved', 'aerospace', 'feedback', 'quarter', 'tuesday', 'borland', 'technological', 'locate', 'adjust', 'belt', 'cartridge', 'sink', 'aluminum', 'cables', 'landing', 'barrel', 'rockets', 'lemieux', 'legislative', 'mamma', 'kinsey', 'revised', 'label', 'theology', 'phenomenon', 'stretch', 'prize', 'compuserve', 'promises', 'actively', 'restricted', 'accidental', 'inferior', 'falling', 'irrelevant', 'replacing', 'edited', 'handles', 'immune', 'species', 'christmas', 'ownership', 'desert', 'ralph', 'announce', 'convenient', 'cookamunga', 'reagan', 'operator', 'evaluation', 'confidence', 'aaron', 'horizon', 'dealt', 'trash', 'anthony', 'condemned', 'creative', 'contrast', 'decades', 'agenda', 'delta', 'employment', 'grateful', 'payload', 'download', 'equipped', 'springs', 'pissed', 'dorothy', 'kilometers', 'liver', 'lyme', 'cyprus', 'azerbaijanis', 'concluded', 'believers', 'competing', 'outcome', 'advocate', 'genetic', 'charter', 'stance', 'blowing', 'incorrect', 'rice', 'reactions', 'identity', 'redesign', 'duke', 'devoted', 'experiments', 'curve', 'discusses', 'floating', 'locked', 'boost', 'stopping', 'bed', 'shortly', 'arthur', 'joined', 'syria', 'approval', 'axe', 'reaching', 'displaying', 'dot', 'layout', 'galileo', 'dir', 'establishment', 'icons', 'hamilton', 'shipped', 'restore', 'champions', 'rated', 'cdrom', 'blast', 'senators', 'denning', 'refugees', 'atrocities', 'tartar', 'kurdish', 'considers', 'assumptions', 'separation', 'naturally', 'viewed', 'adequate', 'genuine', 'motto', 'decides', 'horse', 'josh', 'guilt', 'assist', 'medium', 'contradictory', 'contributions', 'storm', 'dodge', 'ghost', 'worthwhile', 'parameters', 'captured', 'escaped', 'selective', 'significance', 'surprising', 'allies', 'anonymity', 'engineers', 'dial', 'regulations', 'collected', 'optical', 'potentially', 'patent', 'gray', 'netherlands', 'speedstar', 'loading', 'cylinder', 'gopher', 'partners', 'terry', 'rumors', 'slowly', 'upgrading', 'interior', 'mobile', 'dennis', 'outlets', 'discharge', 'drain', 'spy', 'premiums', 'bds', 'arrested', 'deir', 'britain', 'wasting', 'ass', 'excessive', 'slide', 'distant', 'gays', 'affairs', 'gene', 'underlying', 'prejudice', 'morally', 'proves', 'heterosexual', 'recording', 'republican', 'silence', 'regime', 'faces', 'debunks', 'judges', 'offices', 'intention', 'click', 'discount', 'enemies', 'demonstration', 'column', 'mountains', 'torque', 'dsp', 'jfif', 'bmp', 'preferably', 'locks', 'sco', 'baud', 'adopted', 'plugs', 'mint', 'eff', 'runner', 'tampa', 'innings', 'designs', 'denying', 'encountered', 'attribute', 'determining', 'chairman', 'lesson', 'knife', 'objection', 'brains', 'trusted', 'incidents', 'visited', 'assistant', 'mid', 'practiced', 'handed', 'tons', 'profit', 'helsinki', 'supplies', 'invited', 'apostles', 'accomplish', 'football', 'homes', 'compress', 'intervention', 'practically', 'sync', 'swiss', 'slots', 'tennessee', 'earl', 'cant', 'methodology', 'kingston', 'weekend', 'rating', 'delivered', 'proposals', 'pitched', 'riders', 'shotgun', 'decrypt', 'physicians', 'mantis', 'glenn', 'ethical', 'persecution', 'doctrines', 'cheers', 'resolve', 'shelf', 'defence', 'unreasonable', 'reminds', 'hat', 'liquid', 'headed', 'initially', 'marks', 'distribute', 'trinity', 'delay', 'extermination', 'evaluate', 'balanced', 'suspension', 'poll', 'invented', 'loud', 'brigham', 'victory', 'publishing', 'judas', 'volunteer', 'banned', 'tactics', 'lehigh', 'retail', 'functionality', 'extensions', 'magazines', 'valley', 'editing', 'proprietary', 'compatibility', 'editorial', 'bryan', 'cure', 'maine', 'powerpc', 'wax', 'prevention', 'picks', 'jake', 'intercon', 'anecdotal', 'dee', 'territorial', 'stimulus', 'mcconkie', 'giant', 'defining', 'studying', 'creationism', 'plants', 'administrative', 'radical', 'gross', 'remark', 'univ', 'desired', 'holland', 'proving', 'garbage', 'breaks', 'consult', 'singapore', 'dump', 'disregard', 'spin', 'neighborhood', 'precision', 'flexible', 'neck', 'atlas', 'begun', 'periods', 'bradley', 'drunk', 'threatening', 'lunch', 'yellow', 'refresh', 'monochrome', 'simulation', 'handler', 'dartmouth', 'canadians', 'rod', 'drew', 'damaged', 'outlet', 'expo', 'dirt', 'esdi', 'costly', 'har', 'ulf', 'robin', 'brakes', 'deadly', 'redundancy', 'racism', 'unfortunate', 'hostile', 'behave', 'primitive', 'racist', 'punish', 'forgive', 'aix', 'laid', 'bacteria', 'motivated', 'treating', 'minorities', 'eau', 'tigers', 'clarify', 'acquire', 'fed', 'terribly', 'particle', 'garden', 'independence', 'trials', 'sum', 'blank', 'meter', 'sas', 'vendor', 'width', 'movies', 'compete', 'weekly', 'integration', 'roberts', 'permits', 'sessions', 'tonight', 'midi', 'observatory', 'stove', 'twins', 'habs', 'mtl', 'moncton', 'plaintext', 'anatolia', 'copying', 'meaningful', 'differ', 'engage', 'elaborate', 'warrants', 'automobile', 'intentionally', 'thin', 'entity', 'trend', 'twenty', 'communicate', 'sophisticated', 'oral', 'expanded', 'filed', 'administrator', 'planets', 'returning', 'nixon', 'ruling', 'stores', 'austria', 'mentions', 'divided', 'surrounded', 'sincerely', 'ships', 'calm', 'developers', 'reduction', 'kernel', 'detection', 'archie', 'skills', 'programmers', 'platforms', 'accelerated', 'monitoring', 'gnu', 'hunter', 'apollo', 'hackers', 'langley', 'cassette', 'sensor', 'persian', 'imake', 'mazda', 'weaver', 'taurus', 'residents', 'yankee', 'adirondack', 'mgp', 'infants', 'contacts', 'searches', 'abortions', 'subjects', 'credibility', 'infant', 'sister', 'mst', 'inspired', 'correlation', 'offset', 'empirical', 'participated', 'hopes', 'bare', 'exclusive', 'beach', 'von', 'probable', 'applying', 'housing', 'satisfy', 'sons', 'fame', 'praying', 'buyer', 'lean', 'warren', 'tucson', 'newspapers', 'advantages', 'investigate', 'tip', 'stupidity', 'mdt', 'hughes', 'cview', 'cameras', 'collision', 'professionals', 'multimedia', 'compiling', 'computation', 'payment', 'resistor', 'shoulder', 'pound', 'rookie', 'rockies', 'encrypt', 'optilink', 'fatal', 'overwhelming', 'gather', 'meat', 'viking', 'sensing', 'examined', 'measured', 'qualified', 'righteous', 'beats', 'habit', 'perception', 'spreading', 'dates', 'islands', 'bodily', 'indian', 'sight', 'vector', 'laptop', 'query', 'bull', 'winners', 'walks', 'campbell', 'philips', 'compact', 'clarkson', 'jordan', 'digitized', 'temp', 'wanna', 'configure', 'clip', 'mixed', 'sealed', 'fairbanks', 'slick', 'altitude', 'hawk', 'ranger', 'ranch', 'provisions', 'homicide', 'croats', 'fundamentalist', 'involvement', 'differently', 'partly', 'represented', 'corrupt', 'presidential', 'thereby', 'hiding', 'pleased', 'butt', 'paradox', 'lesser', 'precise', 'advocates', 'audience', 'relate', 'thee', 'excerpts', 'cruise', 'perceived', 'priests', 'velocity', 'missouri', 'egypt', 'oak', 'needless', 'variables', 'maps', 'controllers', 'lcd', 'retrieve', 'buttons', 'alberta', 'rotation', 'moscow', 'hamburg', 'ugly', 'orbiting', 'terminals', 'clinic', 'rbi', 'manned', 'sinus', 'livni', 'demonstrates', 'sequences', 'mozumder', 'establishing', 'descriptions', 'arbor', 'removal', 'claire', 'assured', 'constitute', 'accomplished', 'acquired', 'definite', 'awesome', 'grasp', 'binding', 'managing', 'stomach', 'hunting', 'explicit', 'counted', 'politically', 'buried', 'inform', 'generator', 'corinthians', 'alex', 'encounter', 'floppies', 'peak', 'contrib', 'submitted', 'voyager', 'murphy', 'wheels', 'dram', 'priced', 'packard', 'acceleration', 'stress', 'pad', 'convertible', 'syndrome', 'elias', 'gretzky', 'domi', 'hulk', 'lands', 'fires', 'mariner', 'omissions', 'briefing', 'oort', 'walter', 'amusing', 'premise', 'punished', 'logically', 'trivial', 'philosopher', 'rusnews', 'sabin', 'convicted', 'finite', 'mankind', 'technically', 'heading', 'extract', 'crucial', 'witnessed', 'implication', 'creature', 'assure', 'characteristics', 'masses', 'beaten', 'motivation', 'ending', 'scared', 'notre', 'meetings', 'practicing', 'moses', 'hint', 'vacuum', 'sticking', 'downloaded', 'trident', 'cad', 'gifs', 'dynamics', 'directories', 'buck', 'operational', 'specification', 'releases', 'idaho', 'fraction', 'historic', 'hewlett', 'enjoyed', 'rockefeller', 'partial', 'microwave', 'commission', 'tragedy', 'felix', 'wolverine', 'restaurant', 'leaf', 'trucks', 'corn', 'inning', 'providence', 'nutrition', 'vandalizing', 'tartars', 'classical', 'sensible', 'obtaining', 'executed', 'inability', 'accepts', 'inclined', 'applicable', 'threads', 'theological', 'dismiss', 'conflicts', 'utexas', 'cease', 'congressional', 'mentioning', 'firmly', 'condemning', 'infectious', 'samples', 'connecting', 'operated', 'facing', 'discovery', 'substantially', 'measurements', 'humanitarian', 'thompson', 'flew', 'substitute', 'protest', 'luis', 'warn', 'secrecy', 'estimate', 'grounding', 'anger', 'publications', 'wednesday', 'cylinders', 'revenue', 'pilot', 'obfuscated', 'hooked', 'kubota', 'solaris', 'pcs', 'springfield', 'participants', 'portland', 'danny', 'channels', 'truetype', 'lan', 'disable', 'sounded', 'dip', 'secrets', 'mlb', 'immaculate', 'promiscuous', 'mattingly', 'hirschbeck', 'canadiens', 'pluto', 'sinful', 'origins', 'trap', 'sufficiently', 'tendency', 'supernatural', 'vital', 'pursue', 'shed', 'gained', 'collective', 'contradictions', 'corp', 'eve', 'presume', 'attractive', 'cosmic', 'reliability', 'thoroughly', 'praise', 'idiot', 'cobb', 'nicely', 'uucp', 'prophecies', 'outputs', 'jurisdiction', 'prophets', 'silent', 'safely', 'seemingly', 'imho', 'barely', 'permitted', 'compute', 'decrease', 'smoking', 'stadium', 'interviews', 'presentation', 'plotting', 'herein', 'spell', 'colours', 'architecture', 'athena', 'intensive', 'configured', 'msdos', 'hash', 'skip', 'formatted', 'overhead', 'harddisk', 'gerry', 'streets', 'chevy', 'obp', 'rkba', 'deity', 'obscure', 'matching', 'survival', 'twelve', 'implications', 'cooper', 'refering', 'ethics', 'bothers', 'bone', 'confident', 'males']\n"
     ]
    }
   ],
   "source": [
    "#since words till 10000 have a frequency of >20, we will take these as feature names\n",
    "feature_names=[]\n",
    "feature_dict={}                                          #for faster search(dictionary)\n",
    "for i in range(5000):\n",
    "    feature_names.append(sortedWords[i][0])\n",
    "    feature_dict[sortedWords[i][0]]=i                    #dict keys are words and values are indices\n",
    "print(feature_names)"
   ]
  },
  {
   "cell_type": "code",
   "execution_count": 158,
   "metadata": {
    "scrolled": true
   },
   "outputs": [
    {
     "name": "stdout",
     "output_type": "stream",
     "text": [
      "(19997, 5000) <class 'numpy.ndarray'>\n",
      "(19997,) <class 'numpy.ndarray'>\n"
     ]
    }
   ],
   "source": [
    "x=[]\n",
    "y=[]                                              \n",
    "mainPath=\"C:\\\\Users\\\\akshay\\\\Desktop\\\\20_newsgroups\"\n",
    "arrayOfAllZeros=np.zeros(5000)\n",
    "for subFolder in os.listdir(mainPath):                        \n",
    "    subFolderPath=mainPath+\"\\\\\"+subFolder                   \n",
    "    for file in os.listdir(subFolderPath):                  \n",
    "        fileObj=open(subFolderPath+\"\\\\\"+file,\"r\")           \n",
    "        words=((fileObj.read()).strip()).split()\n",
    "        curCounts=arrayOfAllZeros.copy()                           #this will contain x of current file\n",
    "        y.append(subFolder)                                        #subFolder is the type of article eg.alt.atheism\n",
    "        for w in words:\n",
    "            w=w.lower()\n",
    "            if w in feature_dict:\n",
    "                curCounts[feature_dict[w]]+=1\n",
    "        x.append(curCounts)\n",
    "        fileObj.close()\n",
    "x=np.array(x)\n",
    "y=np.array(y)\n",
    "print(x.shape,type(x))\n",
    "print(y.shape,type(y))"
   ]
  },
  {
   "cell_type": "code",
   "execution_count": 159,
   "metadata": {},
   "outputs": [],
   "source": [
    "x_train,x_test,y_train,y_test=train_test_split(x,y,test_size=0.2,random_state=0)       #splitting data into train and test"
   ]
  },
  {
   "cell_type": "markdown",
   "metadata": {},
   "source": [
    "# Classifying using inbuilt Multinomial Naive Bayes in SKLearn"
   ]
  },
  {
   "cell_type": "code",
   "execution_count": 160,
   "metadata": {},
   "outputs": [
    {
     "data": {
      "text/plain": [
       "MultinomialNB(alpha=1.0, class_prior=None, fit_prior=True)"
      ]
     },
     "execution_count": 160,
     "metadata": {},
     "output_type": "execute_result"
    }
   ],
   "source": [
    "clf=MultinomialNB()\n",
    "clf.fit(x_train,y_train)"
   ]
  },
  {
   "cell_type": "code",
   "execution_count": 161,
   "metadata": {},
   "outputs": [
    {
     "name": "stdout",
     "output_type": "stream",
     "text": [
      "['comp.windows.x' 'sci.med' 'talk.politics.guns' ...\n",
      " 'soc.religion.christian' 'rec.autos' 'sci.space']\n",
      "{'alt.atheism', 'rec.sport.baseball', 'comp.windows.x', 'soc.religion.christian', 'talk.politics.mideast', 'sci.electronics', 'sci.space', 'rec.autos', 'comp.graphics', 'comp.os.ms-windows.misc', 'talk.politics.misc', 'comp.sys.ibm.pc.hardware', 'misc.forsale', 'rec.motorcycles', 'rec.sport.hockey', 'talk.politics.guns', 'talk.religion.misc', 'sci.crypt', 'comp.sys.mac.hardware', 'sci.med'}\n"
     ]
    }
   ],
   "source": [
    "y_pred=clf.predict(x_test)\n",
    "print(y_pred)\n",
    "print(set(y_pred))"
   ]
  },
  {
   "cell_type": "code",
   "execution_count": 162,
   "metadata": {},
   "outputs": [
    {
     "data": {
      "text/plain": [
       "0.78575"
      ]
     },
     "execution_count": 162,
     "metadata": {},
     "output_type": "execute_result"
    }
   ],
   "source": [
    "clf.score(x_test,y_test)"
   ]
  },
  {
   "cell_type": "code",
   "execution_count": 163,
   "metadata": {},
   "outputs": [
    {
     "data": {
      "text/plain": [
       "array([[145,   0,   0,   0,   0,   0,   0,   1,   5,   0,   0,   0,   0,\n",
       "          1,   1,   5,   2,   2,   5,  26],\n",
       "       [  2, 139,  20,   6,   5,  14,   6,   1,   3,   0,   0,   0,   2,\n",
       "          2,   1,   0,   0,   0,   0,   0],\n",
       "       [  0,   9, 158,   9,   5,   6,   3,   0,   0,   1,   0,   0,   4,\n",
       "          0,   2,   0,   0,   0,   0,   0],\n",
       "       [  0,   6,  16, 125,  17,   2,   8,   2,   0,   0,   0,   1,   5,\n",
       "          0,   0,   0,   0,   0,   0,   0],\n",
       "       [  0,   0,   8,  14, 158,   0,   9,   2,   0,   0,   0,   0,   5,\n",
       "          0,   0,   0,   0,   0,   0,   0],\n",
       "       [  0,  25,  16,   2,   1, 142,   0,   0,   0,   1,   1,   5,   1,\n",
       "          0,   2,   0,   0,   0,   0,   0],\n",
       "       [  0,   1,   1,  13,   7,   1, 157,  10,   4,   3,   2,   2,   7,\n",
       "          1,   2,   0,   0,   0,   3,   0],\n",
       "       [  1,   0,   1,   3,   2,   2,   8, 180,  11,   0,   0,   0,   7,\n",
       "          1,   0,   0,   3,   0,   1,   1],\n",
       "       [  0,   1,   1,   0,   0,   0,   4,  13, 197,   1,   0,   0,   4,\n",
       "          0,   0,   0,   2,   0,   1,   0],\n",
       "       [  1,   0,   1,   0,   0,   0,   2,   1,   1, 181,   3,   1,   1,\n",
       "          0,   1,   0,   0,   0,   1,   0],\n",
       "       [  0,   0,   1,   0,   0,   0,   0,   0,   1,   6, 182,   0,   0,\n",
       "          0,   0,   1,   0,   0,   0,   0],\n",
       "       [  0,   3,   1,   0,   1,   4,   0,   0,   0,   0,   0, 180,   0,\n",
       "          2,   0,   0,   2,   0,   1,   0],\n",
       "       [  0,   8,   3,  11,  12,   2,   8,   6,   2,   1,   1,   2, 140,\n",
       "          0,   0,   0,   0,   0,   0,   0],\n",
       "       [  2,   6,   1,   0,   2,   0,   0,   2,   4,   0,   1,   0,   5,\n",
       "        177,   4,   0,   2,   1,   2,   1],\n",
       "       [  0,   2,   0,   0,   0,   1,   2,   0,   4,   2,   1,   0,   2,\n",
       "          1, 171,   0,   4,   0,   3,   2],\n",
       "       [ 13,   0,   2,   0,   0,   1,   0,   0,   0,   0,   0,   0,   2,\n",
       "          3,   0, 168,   2,   2,   1,   5],\n",
       "       [  0,   0,   1,   0,   0,   0,   0,   2,   0,   0,   0,   4,   0,\n",
       "          1,   0,   0, 169,   2,  16,   8],\n",
       "       [  4,   2,   0,   0,   1,   0,   0,   0,   0,   0,   0,   0,   2,\n",
       "          1,   0,   3,   3, 186,  12,   2],\n",
       "       [  1,   0,   0,   2,   0,   0,   0,   1,   0,   2,   0,   4,   0,\n",
       "          5,   4,   0,  29,  14, 117,  11],\n",
       "       [ 37,   2,   0,   0,   1,   0,   1,   0,   0,   1,   1,   1,   0,\n",
       "          1,   1,  26,  24,   2,  19,  71]], dtype=int64)"
      ]
     },
     "execution_count": 163,
     "metadata": {},
     "output_type": "execute_result"
    }
   ],
   "source": [
    "confusion_matrix(y_test,y_pred) #as we can see most of the predictions belong to correct class(highest values along diagonal)"
   ]
  },
  {
   "cell_type": "code",
   "execution_count": 164,
   "metadata": {},
   "outputs": [
    {
     "data": {
      "text/plain": [
       "'                          precision    recall  f1-score   support\\n\\n             alt.atheism       0.70      0.75      0.73       193\\n           comp.graphics       0.68      0.69      0.69       201\\n comp.os.ms-windows.misc       0.68      0.80      0.74       197\\ncomp.sys.ibm.pc.hardware       0.68      0.69      0.68       182\\n   comp.sys.mac.hardware       0.75      0.81      0.77       196\\n          comp.windows.x       0.81      0.72      0.77       196\\n            misc.forsale       0.75      0.73      0.74       214\\n               rec.autos       0.81      0.81      0.81       221\\n         rec.motorcycles       0.85      0.88      0.86       224\\n      rec.sport.baseball       0.91      0.93      0.92       194\\n        rec.sport.hockey       0.95      0.95      0.95       191\\n               sci.crypt       0.90      0.93      0.91       194\\n         sci.electronics       0.75      0.71      0.73       196\\n                 sci.med       0.90      0.84      0.87       210\\n               sci.space       0.90      0.88      0.89       195\\n  soc.religion.christian       0.83      0.84      0.84       199\\n      talk.politics.guns       0.70      0.83      0.76       203\\n   talk.politics.mideast       0.89      0.86      0.88       216\\n      talk.politics.misc       0.64      0.62      0.63       190\\n      talk.religion.misc       0.56      0.38      0.45       188\\n\\n               micro avg       0.79      0.79      0.79      4000\\n               macro avg       0.78      0.78      0.78      4000\\n            weighted avg       0.78      0.79      0.78      4000\\n'"
      ]
     },
     "execution_count": 164,
     "metadata": {},
     "output_type": "execute_result"
    }
   ],
   "source": [
    "classification_report(y_test,y_pred)"
   ]
  },
  {
   "cell_type": "markdown",
   "metadata": {},
   "source": [
    "# My Own Implementation of Naive Bayes for Text Classification"
   ]
  },
  {
   "cell_type": "code",
   "execution_count": 165,
   "metadata": {},
   "outputs": [],
   "source": [
    "#fit function\n",
    "def fit(x_train,y_train):\n",
    "    result={}                                             #dictionary\n",
    "    classes=set(y_train)                                  #set of all classes\n",
    "    result[\"total_data\"]=len(y_train)                     #total no. of data points \n",
    "    for i in classes:                                     #for each class i\n",
    "        result[i]={}                                      #create a dictionary for class i\n",
    "        c=(y==i)                                          #True wherever y belongs to class i, False otherwise\n",
    "        curFiles=x[c]                                     #getting all files(data points) belonging to class i\n",
    "        totalWordsInCurClass=0                            #total no. of words in current class\n",
    "        for j in range(len(feature_names)):               #for each word j\n",
    "            result[i][j]=curFiles[:,j].sum()              #no. of occurences of word no. j in files of class i\n",
    "            totalWordsInCurClass+=result[i][j]\n",
    "        result[i][\"total_words\"]=totalWordsInCurClass\n",
    "        result[i][\"total_count\"]=len(curFiles)            #no. of data points belonging to current class\n",
    "    return result"
   ]
  },
  {
   "cell_type": "code",
   "execution_count": 166,
   "metadata": {},
   "outputs": [],
   "source": [
    "#function to calculate probability:\n",
    "def probability(result,x,a):                         #a is the current class whose prob.we want to calculate, x is data point\n",
    "    product=np.log((result[a][\"total_count\"])/(result[\"total_data\"]))\n",
    "    for i in range(len(feature_names)):\n",
    "        if x[i]==0:\n",
    "            continue\n",
    "        numerator=result[a][i]+1\n",
    "        denominator=result[a][\"total_words\"]+len(feature_names)\n",
    "        prob=np.log(numerator/denominator)\n",
    "        product+=prob\n",
    "    return product"
   ]
  },
  {
   "cell_type": "code",
   "execution_count": 167,
   "metadata": {},
   "outputs": [],
   "source": [
    "#predicting for a single data point:\n",
    "def predict_single_point(result,x_test):             #x_test is a single point\n",
    "    max_prob=float('-inf')                           #dummy value(as log will give -ve, we take sufficiently high -ve no.)\n",
    "    max_prob_class=-1                                #dummy value\n",
    "    for i in result.keys():\n",
    "        if i==\"total_data\":\n",
    "            continue\n",
    "        cur_prob=probability(result,x_test,i)\n",
    "        if cur_prob>max_prob:\n",
    "            max_prob=cur_prob\n",
    "            max_prob_class=i\n",
    "    return max_prob_class"
   ]
  },
  {
   "cell_type": "code",
   "execution_count": 168,
   "metadata": {},
   "outputs": [],
   "source": [
    "#predict function:\n",
    "def predict(result,x_test):\n",
    "    y_pred=[]\n",
    "    for i in x_test:\n",
    "        y_pred.append(predict_single_point(result,i))\n",
    "    return np.array(y_pred)"
   ]
  },
  {
   "cell_type": "code",
   "execution_count": 169,
   "metadata": {
    "scrolled": true
   },
   "outputs": [
    {
     "name": "stdout",
     "output_type": "stream",
     "text": [
      "['comp.windows.x' 'sci.med' 'talk.politics.guns' ...\n",
      " 'soc.religion.christian' 'rec.motorcycles' 'sci.space']\n",
      "{'alt.atheism', 'rec.sport.baseball', 'comp.windows.x', 'soc.religion.christian', 'talk.politics.mideast', 'sci.electronics', 'sci.space', 'rec.autos', 'comp.graphics', 'comp.os.ms-windows.misc', 'talk.politics.misc', 'comp.sys.ibm.pc.hardware', 'misc.forsale', 'rec.motorcycles', 'rec.sport.hockey', 'talk.politics.guns', 'talk.religion.misc', 'sci.crypt', 'comp.sys.mac.hardware', 'sci.med'}\n"
     ]
    }
   ],
   "source": [
    "result=fit(x_train,y_train)\n",
    "y_pred2=predict(result,x_test)\n",
    "print(y_pred2)\n",
    "print(set(y_pred2))"
   ]
  },
  {
   "cell_type": "code",
   "execution_count": 170,
   "metadata": {
    "scrolled": true
   },
   "outputs": [
    {
     "data": {
      "text/plain": [
       "array([[163,   0,   0,   0,   0,   0,   0,   0,   4,   1,   0,   0,   0,\n",
       "          1,   1,   2,   1,   2,   3,  15],\n",
       "       [  1, 157,  18,   5,   4,   4,   4,   2,   3,   0,   0,   0,   1,\n",
       "          1,   1,   0,   0,   0,   0,   0],\n",
       "       [  0,   9, 167,   7,   2,   4,   3,   0,   0,   1,   0,   0,   3,\n",
       "          0,   1,   0,   0,   0,   0,   0],\n",
       "       [  0,   6,   7, 145,   9,   1,  10,   1,   0,   0,   0,   0,   3,\n",
       "          0,   0,   0,   0,   0,   0,   0],\n",
       "       [  0,   0,   2,   9, 170,   0,   8,   1,   0,   0,   0,   0,   6,\n",
       "          0,   0,   0,   0,   0,   0,   0],\n",
       "       [  0,  21,  12,   2,   1, 151,   0,   1,   0,   0,   0,   4,   1,\n",
       "          0,   1,   0,   1,   0,   1,   0],\n",
       "       [  0,   1,   1,   8,   3,   0, 181,   8,   2,   1,   0,   3,   2,\n",
       "          1,   0,   0,   0,   0,   3,   0],\n",
       "       [  1,   0,   2,   0,   2,   1,   8, 196,   2,   0,   0,   0,   4,\n",
       "          1,   0,   1,   2,   0,   0,   1],\n",
       "       [  0,   1,   1,   1,   0,   0,   2,   4, 213,   0,   0,   0,   2,\n",
       "          0,   0,   0,   0,   0,   0,   0],\n",
       "       [  1,   0,   0,   0,   0,   0,   2,   1,   1, 185,   2,   1,   0,\n",
       "          0,   1,   0,   0,   0,   0,   0],\n",
       "       [  0,   0,   1,   0,   0,   0,   0,   0,   1,   3, 186,   0,   0,\n",
       "          0,   0,   0,   0,   0,   0,   0],\n",
       "       [  0,   3,   1,   0,   1,   3,   1,   0,   0,   0,   0, 182,   0,\n",
       "          2,   0,   0,   0,   0,   1,   0],\n",
       "       [  0,   8,   5,   7,   8,   0,   6,   6,   1,   1,   0,   1, 152,\n",
       "          0,   0,   0,   1,   0,   0,   0],\n",
       "       [  2,   6,   1,   0,   1,   0,   0,   2,   2,   0,   2,   0,   4,\n",
       "        184,   2,   0,   2,   0,   1,   1],\n",
       "       [  0,   2,   0,   0,   0,   1,   2,   0,   4,   0,   0,   0,   1,\n",
       "          0, 179,   0,   1,   0,   3,   2],\n",
       "       [  5,   0,   2,   0,   1,   1,   0,   0,   0,   0,   0,   0,   2,\n",
       "          2,   0, 182,   1,   2,   1,   0],\n",
       "       [  0,   0,   1,   0,   0,   0,   0,   2,   0,   1,   0,   1,   0,\n",
       "          1,   0,   0, 179,   0,  12,   6],\n",
       "       [  4,   2,   0,   0,   0,   1,   0,   1,   0,   0,   0,   0,   1,\n",
       "          0,   0,   4,   2, 190,   9,   2],\n",
       "       [  1,   0,   2,   1,   0,   0,   0,   1,   0,   2,   0,   3,   0,\n",
       "          2,   4,   0,  19,  12, 132,  11],\n",
       "       [ 32,   1,   1,   0,   0,   0,   1,   0,   0,   0,   0,   1,   0,\n",
       "          1,   2,  11,  20,   2,  12, 104]], dtype=int64)"
      ]
     },
     "execution_count": 170,
     "metadata": {},
     "output_type": "execute_result"
    }
   ],
   "source": [
    "confusion_matrix(y_test,y_pred2) #as we can see most of the predictions belong to correct class(highest values along diagonal)"
   ]
  },
  {
   "cell_type": "code",
   "execution_count": 171,
   "metadata": {},
   "outputs": [
    {
     "data": {
      "text/plain": [
       "'                          precision    recall  f1-score   support\\n\\n             alt.atheism       0.78      0.84      0.81       193\\n           comp.graphics       0.72      0.78      0.75       201\\n comp.os.ms-windows.misc       0.75      0.85      0.79       197\\ncomp.sys.ibm.pc.hardware       0.78      0.80      0.79       182\\n   comp.sys.mac.hardware       0.84      0.87      0.85       196\\n          comp.windows.x       0.90      0.77      0.83       196\\n            misc.forsale       0.79      0.85      0.82       214\\n               rec.autos       0.87      0.89      0.88       221\\n         rec.motorcycles       0.91      0.95      0.93       224\\n      rec.sport.baseball       0.95      0.95      0.95       194\\n        rec.sport.hockey       0.98      0.97      0.98       191\\n               sci.crypt       0.93      0.94      0.93       194\\n         sci.electronics       0.84      0.78      0.80       196\\n                 sci.med       0.94      0.88      0.91       210\\n               sci.space       0.93      0.92      0.93       195\\n  soc.religion.christian       0.91      0.91      0.91       199\\n      talk.politics.guns       0.78      0.88      0.83       203\\n   talk.politics.mideast       0.91      0.88      0.90       216\\n      talk.politics.misc       0.74      0.69      0.72       190\\n      talk.religion.misc       0.73      0.55      0.63       188\\n\\n               micro avg       0.85      0.85      0.85      4000\\n               macro avg       0.85      0.85      0.85      4000\\n            weighted avg       0.85      0.85      0.85      4000\\n'"
      ]
     },
     "execution_count": 171,
     "metadata": {},
     "output_type": "execute_result"
    }
   ],
   "source": [
    "classification_report(y_test,y_pred2)       #all scores are better than those of SKLearn MNB (see f1 score)"
   ]
  }
 ],
 "metadata": {
  "kernelspec": {
   "display_name": "Python 3",
   "language": "python",
   "name": "python3"
  },
  "language_info": {
   "codemirror_mode": {
    "name": "ipython",
    "version": 3
   },
   "file_extension": ".py",
   "mimetype": "text/x-python",
   "name": "python",
   "nbconvert_exporter": "python",
   "pygments_lexer": "ipython3",
   "version": "3.7.3"
  }
 },
 "nbformat": 4,
 "nbformat_minor": 2
}
